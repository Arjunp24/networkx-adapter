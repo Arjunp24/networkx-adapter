{
 "cells": [
  {
   "cell_type": "code",
   "execution_count": 1,
   "metadata": {},
   "outputs": [],
   "source": [
    "import csv\n",
    "import json\n",
    "import requests\n",
    "import sys\n",
    "import oasis\n",
    "\n",
    "\n",
    "from pyArango.connection import *\n",
    "from pyArango.collection import Collection, Edges, Field\n",
    "from pyArango.graph import Graph, EdgeDefinition\n",
    "from pyArango.collection import BulkOperation as BulkOperation"
   ]
  },
  {
   "cell_type": "code",
   "execution_count": 3,
   "metadata": {},
   "outputs": [
    {
     "name": "stdout",
     "output_type": "stream",
     "text": [
      "User Data\n",
      "user_id,Age,Gender,occupation,zip_code\n",
      "1,35,M,engineer,94117\n",
      "2,53,F,other,94043\n",
      "\n",
      "Movies Data\n",
      "movie_id, movie title , release date , video release date , IMDb URL , unknown , Action , Adventure , Animation , Children's , Comedy , Crime , Documentary , Drama , Fantasy , Film-Noir , Horror , Musical , Mystery , Romance , Sci-Fi , Thriller , War , Western \n",
      "1,Toy Story (1995),01-Jan-1995,,http://us.imdb.com/M/title-exact?Toy%20Story%20(1995),0,0,0,1,1,1,0,0,0,0,0,0,0,0,0,0,0,0,0\n",
      "2,GoldenEye (1995),01-Jan-1995,,http://us.imdb.com/M/title-exact?GoldenEye%20(1995),0,1,1,0,0,0,0,0,0,0,0,0,0,0,0,0,1,0,0\n",
      "\n",
      "Rating Data\n",
      "user_id,item_id,Rating,Timestamp\n",
      "186,302,3,891717742\n",
      "22,377,1,878887116\n"
     ]
    }
   ],
   "source": [
    "print(\"User Data\")\n",
    "!head -n 3 data/users.csv \n",
    "print()\n",
    "print(\"Movies Data\")\n",
    "!head -n 3 data/movies.csv \n",
    "print()\n",
    "print(\"Rating Data\")\n",
    "!head -n 3 data/ratings.csv "
   ]
  },
  {
   "cell_type": "code",
   "execution_count": 7,
   "metadata": {},
   "outputs": [
    {
     "name": "stdout",
     "output_type": "stream",
     "text": [
      "Reusing cached credentials.\n"
     ]
    }
   ],
   "source": [
    "# Retrieve tmp credentials from ArangoDB Tutorial Service\n",
    "login = oasis.getTempCredentials()\n",
    "\n",
    "# Connect to the temp database\n",
    "conn = oasis.connect_c(login)\n",
    "db = conn[login[\"dbName\"]] "
   ]
  },
  {
   "cell_type": "code",
   "execution_count": 8,
   "metadata": {},
   "outputs": [
    {
     "name": "stdout",
     "output_type": "stream",
     "text": [
      "Collection/Graph Setup done.\n"
     ]
    }
   ],
   "source": [
    "from pyArango.collection import Collection, Field\n",
    "from pyArango.graph import Graph, EdgeDefinition\n",
    "\n",
    "\n",
    "class Users(Collection):\n",
    "    _fields = {\n",
    "        \"user_id\": Field(),\n",
    "        \"age\": Field(),\n",
    "        \"gender\": Field()\n",
    "    }\n",
    "    \n",
    "class Movies(Collection):\n",
    "    _fields = {\n",
    "        \"movie_id\": Field(),\n",
    "        \"movie_title\": Field(),\n",
    "        \"release_data\": Field()\n",
    "    }\n",
    "\n",
    "class Ratings(Edges): \n",
    "    _fields = {\n",
    "        #user_id and item_id are encoded by _from, _to \n",
    "        \"rating\": Field(),\n",
    "        \"timestamp\": Field()\n",
    "    }\n",
    "\n",
    "class IMDBGraph(Graph) :\n",
    "    _edgeDefinitions = [EdgeDefinition(\"Ratings\", fromCollections=[\"Users\"], toCollections=[\"Movies\"])]\n",
    "    _orphanedCollections = []\n",
    "\n",
    "db.createCollection(\"Users\")\n",
    "db.createCollection(\"Movies\")\n",
    "db.createCollection(\"Ratings\")\n",
    "iMDBGraph = db.createGraph(\"IMDBGraph\")\n",
    "\n",
    "print(\"Collection/Graph Setup done.\")"
   ]
  },
  {
   "cell_type": "code",
   "execution_count": 9,
   "metadata": {},
   "outputs": [
    {
     "name": "stdout",
     "output_type": "stream",
     "text": [
      "Import Done\n"
     ]
    }
   ],
   "source": [
    "collection = db[\"Users\"]\n",
    "with BulkOperation(collection, batchSize=100) as col:\n",
    "    with open('data/users.csv', newline='') as csvfile:\n",
    "        reader = csv.reader(csvfile, delimiter=',', quotechar='|')\n",
    "        #Skip header\n",
    "        next(reader)\n",
    "        for row in reader:\n",
    "            user_id,age,gender,occupation,zip = tuple(row)\n",
    "            doc = col.createDocument()\n",
    "            doc[\"_key\"] = user_id\n",
    "            doc[\"age\"] = age\n",
    "            doc[\"gender\"] = gender\n",
    "            doc.save()\n",
    "\n",
    "collection = db[\"Movies\"]\n",
    "with BulkOperation(collection, batchSize=100) as col:\n",
    "    with open('data/movies.csv', newline='') as csvfile:\n",
    "        reader = csv.reader(csvfile, delimiter=',', quotechar='|')\n",
    "        #Skip header\n",
    "        next(reader)\n",
    "        for row in reader:\n",
    "            movie_id, movie_title , release_date , video_release_date , url , unknown , action , adventure , animation , childrens , comedy , crime , documentary , drama , fantasy , noir , horror , musical , mystery , romance , scifi , thriller , war , western = tuple(row)\n",
    "            doc = col.createDocument()\n",
    "            doc[\"_key\"] = movie_id\n",
    "            doc[\"movie_title\"] = movie_title\n",
    "            doc[\"release_date\"] = release_date\n",
    "            doc.save()\n",
    "\n",
    "collection = db[\"Ratings\"]\n",
    "with BulkOperation(collection, batchSize=1000) as col:\n",
    "    with open('data/ratings.csv', newline='') as csvfile:\n",
    "        reader = csv.reader(csvfile, delimiter=',', quotechar='|')\n",
    "        #Skip header\n",
    "        next(reader)\n",
    "        for row in reader:\n",
    "            user_id,movie_id,rating,timestamp = tuple(row)\n",
    "            doc = col.createDocument()\n",
    "            doc[\"_from\"] = \"Users/\"+user_id\n",
    "            doc[\"_to\"] = \"Movies/\"+movie_id\n",
    "            doc[\"ratings\"] = rating\n",
    "            doc[\"timestamp\"] = timestamp\n",
    "            doc.save()\n",
    "        \n",
    "print(\"Import Done\")"
   ]
  },
  {
   "cell_type": "code",
   "execution_count": null,
   "metadata": {},
   "outputs": [],
   "source": []
  }
 ],
 "metadata": {
  "kernelspec": {
   "display_name": "Python 3",
   "language": "python",
   "name": "python3"
  },
  "language_info": {
   "codemirror_mode": {
    "name": "ipython",
    "version": 3
   },
   "file_extension": ".py",
   "mimetype": "text/x-python",
   "name": "python",
   "nbconvert_exporter": "python",
   "pygments_lexer": "ipython3",
   "version": "3.7.6"
  }
 },
 "nbformat": 4,
 "nbformat_minor": 2
}
