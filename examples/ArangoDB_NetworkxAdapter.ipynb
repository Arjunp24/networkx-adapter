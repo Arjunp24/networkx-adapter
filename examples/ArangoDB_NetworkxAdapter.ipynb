{
 "cells": [
  {
   "cell_type": "markdown",
   "metadata": {},
   "source": [
    "# ArangoDB NetworkX Adapter Getting Started Guide  "
   ]
  },
  {
   "cell_type": "markdown",
   "metadata": {},
   "source": [
    "![arangodb](../assets/logos/ArangoDB_logo.png)"
   ]
  },
  {
   "cell_type": "markdown",
   "metadata": {},
   "source": [
    "In this Notebook we learn how to export Graphs from [ArangoDB](https://www.arangodb.com/), a multi-model Graph Database into [NetworkX](https://networkx.github.io/), the swiss army knife for graph analysis ion python."
   ]
  },
  {
   "cell_type": "markdown",
   "metadata": {},
   "source": [
    "# Setup"
   ]
  },
  {
   "cell_type": "code",
   "execution_count": 3,
   "metadata": {},
   "outputs": [],
   "source": [
    "#from adbnx_adapter import ArangoDB_Networkx_Adapter\n",
    "\n",
    "import oasis"
   ]
  },
  {
   "cell_type": "markdown",
   "metadata": {},
   "source": [
    "# Create a Temporary ArangoDB Instance"
   ]
  },
  {
   "cell_type": "code",
   "execution_count": 4,
   "metadata": {},
   "outputs": [
    {
     "name": "stdout",
     "output_type": "stream",
     "text": [
      "Reusing cached credentials.\n",
      "\n",
      "https://5904e8d8a65f.arangodb.cloud:8529\n",
      "Username: TUTcvzmdnahdqqtqg90jwhedl\n",
      "Password: TUTy9qwp7aods0wa97zmyddl\n",
      "Database: TUTlb2w846yqn2457bmox0lh\n"
     ]
    }
   ],
   "source": [
    "# Request temporary instance from the managed ArangoDB Cloud Oasis.\n",
    "con = oasis.getTempCredentials()\n",
    "\n",
    "print()\n",
    "print(\"https://{}:{}\".format(con[\"hostname\"], con[\"port\"]))\n",
    "print(\"Username: \" + con[\"username\"])\n",
    "print(\"Password: \" + con[\"password\"])\n",
    "print(\"Database: \" + con[\"dbName\"])"
   ]
  },
  {
   "cell_type": "code",
   "execution_count": 5,
   "metadata": {},
   "outputs": [],
   "source": [
    "import csv\n",
    "import json\n",
    "import requests\n",
    "import sys\n",
    "import oasis\n",
    "\n",
    "\n",
    "from pyArango.connection import *\n",
    "from pyArango.collection import Collection, Edges, Field\n",
    "from pyArango.graph import Graph, EdgeDefinition\n",
    "from pyArango.collection import BulkOperation as BulkOperation"
   ]
  },
  {
   "cell_type": "code",
   "execution_count": 6,
   "metadata": {},
   "outputs": [
    {
     "name": "stdout",
     "output_type": "stream",
     "text": [
      "\u001b[0m2020-05-06T14:48:47Z [14603] INFO [05c30] {restore} Connected to ArangoDB 'http+ssl://5904e8d8a65f.arangodb.cloud:8529'\n",
      "\u001b[0m\u001b[0m2020-05-06T14:48:49Z [14603] INFO [abeb4] {restore} Database name in source dump is 'fraud-detection'\n",
      "\u001b[0m\u001b[0m2020-05-06T14:48:49Z [14603] INFO [9b414] {restore} # Re-creating document collection 'account'...\n",
      "\u001b[0m\u001b[0m2020-05-06T14:48:52Z [14603] INFO [9b414] {restore} # Re-creating document collection 'bank'...\n",
      "\u001b[0m\u001b[0m2020-05-06T14:48:55Z [14603] INFO [9b414] {restore} # Re-creating document collection 'branch'...\n",
      "\u001b[0m\u001b[0m2020-05-06T14:48:58Z [14603] INFO [9b414] {restore} # Re-creating document collection 'Class'...\n",
      "\u001b[0m\u001b[0m2020-05-06T14:49:00Z [14603] INFO [9b414] {restore} # Re-creating document collection 'customer'...\n",
      "\u001b[0m\u001b[0m2020-05-06T14:49:02Z [14603] INFO [9b414] {restore} # Re-creating edge collection 'accountHolder'...\n",
      "\u001b[0m\u001b[0m2020-05-06T14:49:05Z [14603] INFO [9b414] {restore} # Re-creating edge collection 'Relationship'...\n",
      "\u001b[0m\u001b[0m2020-05-06T14:49:07Z [14603] INFO [9b414] {restore} # Re-creating edge collection 'transaction'...\n",
      "\u001b[0m\u001b[0m2020-05-06T14:49:09Z [14603] INFO [f723c] {restore} # Creating views...\n",
      "\u001b[0m\u001b[0m2020-05-06T14:49:10Z [14603] INFO [6d69f] {restore} # Dispatched 8 job(s), using 2 worker(s)\n",
      "\u001b[0m\u001b[0m2020-05-06T14:49:10Z [14603] INFO [d88c6] {restore} # Creating indexes for collection 'account'...\n",
      "\u001b[0m\u001b[0m2020-05-06T14:49:10Z [14603] INFO [94913] {restore} # Loading data into document collection 'bank', data size: 183 byte(s)\n",
      "\u001b[0m\u001b[0m2020-05-06T14:49:10Z [14603] INFO [6ae09] {restore} # Successfully restored document collection 'bank'\n",
      "\u001b[0m\u001b[0m2020-05-06T14:49:10Z [14603] INFO [94913] {restore} # Loading data into document collection 'branch', data size: 465 byte(s)\n",
      "\u001b[0m\u001b[0m2020-05-06T14:49:10Z [14603] INFO [6ae09] {restore} # Successfully restored document collection 'branch'\n",
      "\u001b[0m\u001b[0m2020-05-06T14:49:10Z [14603] INFO [94913] {restore} # Loading data into document collection 'Class', data size: 196 byte(s)\n",
      "\u001b[0m\u001b[0m2020-05-06T14:49:11Z [14603] INFO [94913] {restore} # Loading data into document collection 'account', data size: 1696 byte(s)\n",
      "\u001b[0m\u001b[0m2020-05-06T14:49:11Z [14603] INFO [6ae09] {restore} # Successfully restored document collection 'Class'\n",
      "\u001b[0m\u001b[0m2020-05-06T14:49:11Z [14603] INFO [d88c6] {restore} # Creating indexes for collection 'customer'...\n",
      "\u001b[0m\u001b[0m2020-05-06T14:49:12Z [14603] INFO [6ae09] {restore} # Successfully restored document collection 'account'\n",
      "\u001b[0m\u001b[0m2020-05-06T14:49:12Z [14603] INFO [94913] {restore} # Loading data into edge collection 'accountHolder', data size: 1076 byte(s)\n",
      "\u001b[0m\u001b[0m2020-05-06T14:49:12Z [14603] INFO [6ae09] {restore} # Successfully restored edge collection 'accountHolder'\n",
      "\u001b[0m\u001b[0m2020-05-06T14:49:12Z [14603] INFO [94913] {restore} # Loading data into edge collection 'Relationship', data size: 275 byte(s)\n",
      "\u001b[0m\u001b[0m2020-05-06T14:49:13Z [14603] INFO [94913] {restore} # Loading data into document collection 'customer', data size: 794 byte(s)\n",
      "\u001b[0m\u001b[0m2020-05-06T14:49:13Z [14603] INFO [6ae09] {restore} # Successfully restored edge collection 'Relationship'\n",
      "\u001b[0m\u001b[0m2020-05-06T14:49:13Z [14603] INFO [94913] {restore} # Loading data into edge collection 'transaction', data size: 2292 byte(s)\n",
      "\u001b[0m\u001b[0m2020-05-06T14:49:13Z [14603] INFO [6ae09] {restore} # Successfully restored document collection 'customer'\n",
      "\u001b[0m\u001b[0m2020-05-06T14:49:13Z [14603] INFO [6ae09] {restore} # Successfully restored edge collection 'transaction'\n",
      "\u001b[0m\u001b[0m2020-05-06T14:49:14Z [14603] INFO [a66e1] {restore} Processed 8 collection(s) in 27.924492 s, read 49781 byte(s) from datafiles, sent 8 data batch(es) of 49773 byte(s) total size\n",
      "\u001b[0m"
     ]
    }
   ],
   "source": [
    "!./tools/arangorestore -c none --server.endpoint http+ssl://{con[\"hostname\"]}:{con[\"port\"]} --server.username {con[\"username\"]} --server.database {con[\"dbName\"]} --server.password {con[\"password\"]} --default-replication-factor 3  --input-directory \"data/fraud_dump\""
   ]
  },
  {
   "cell_type": "markdown",
   "metadata": {},
   "source": [
    "*Note: You can also use the above link and login data to explore the ArangoDB UI.*"
   ]
  },
  {
   "cell_type": "markdown",
   "metadata": {},
   "source": [
    "TODO: arangorestore for the import of the imdb Fraud Detection data set"
   ]
  },
  {
   "cell_type": "markdown",
   "metadata": {},
   "source": [
    "# Connect ArangoDB and NetworkX "
   ]
  },
  {
   "cell_type": "code",
   "execution_count": 7,
   "metadata": {},
   "outputs": [],
   "source": [
    "\n",
    "from adbnx_adapter.arangoDB_networkx_arango_adapter import ArangoDB_Networkx_Adapter\n",
    "ma = ArangoDB_Networkx_Adapter(conn = con)\n",
    "    "
   ]
  },
  {
   "cell_type": "code",
   "execution_count": 8,
   "metadata": {},
   "outputs": [],
   "source": [
    "fraud_detection_attributes = { 'vertexCollections': {'account': {'Balance', 'account_type', 'customer_id', 'rank'},\\\n",
    "       'bank': {'Country', 'Id', 'bank_id', 'bank_name'},\\\n",
    "       'branch':{'City', 'Country', 'Id', 'bank_id', 'branch_id', 'branch_name'},\\\n",
    "       'Class':{'concrete', 'label', 'name'},\\\n",
    "       'customer': {'Name', 'Sex', 'Ssn', 'rank'}},\\\n",
    "                              'edgeCollections' : {'accountHolder': {'_from', '_to'},\\\n",
    "       'Relationship': {'_from', '_to', 'label', 'name', 'relationshipType'},\\\n",
    "       'transaction': {'_from', '_to'}}}\n",
    "\n",
    "g = ma.create_networkx_graph(graph_name = 'FraudDetection',  graph_attributes =   fraud_detection_attributes)"
   ]
  },
  {
   "cell_type": "code",
   "execution_count": 9,
   "metadata": {},
   "outputs": [
    {
     "data": {
      "text/plain": [
       "NodeView(('account/6149748', 'account/10000041', 'account/10000043', 'account/6149781', 'account/10000036', 'account/10000040', 'account/10000042', 'account/10000001', 'account/10000035', 'account/10000027', 'account/10000044', 'account/10000008', 'account/1000054', 'account/4149551', 'account/10000034', 'account/10000015', 'account/1000053', 'account/10000014', 'account/1000050', 'account/10000003', 'account/10000022', 'account/10000017', 'account/6149795', 'account/10000030', 'account/10000020', 'account/10000013', 'account/10000039', 'account/10000029', 'account/10000019', 'account/10000028', 'account/10000037', 'account/10000012', 'account/10000024', 'account/orphan_Account_1', 'account/10000006', 'account/10000033', 'account/10000031', 'account/1000052', 'account/10000026', 'account/10000011', 'account/10000018', 'account/10000010', 'account/10000016', 'account/10000002', 'account/10000004', 'account/10000009', 'account/10000025', 'account/10000038', 'account/10000032', 'account/10000023', 'account/10000005', 'account/1000051', 'account/10000021', 'account/10000007', 'bank/1548225', 'bank/1548224', 'bank/1548226', 'branch/1548208', 'branch/1548209', 'branch/1548205', 'branch/1548211', 'branch/1548206', 'branch/1548210', 'branch/1548207', 'branch/1548212', 'branch/1548204', 'branch/1548203', 'Class/customer', 'Class/account', 'Class/bank', 'Class/branch', 'customer/10810', 'customer/10000001', 'customer/10000002', 'customer/10000012', 'customer/10000008', 'customer/10000010', 'customer/10000015', 'customer/10000006', 'customer/10000013', 'customer/10000009', 'customer/10000011', 'customer/10000016', 'customer/10000007', 'customer/10000003', 'customer/10000005', 'customer/10000004', 'customer/10000014'))"
      ]
     },
     "execution_count": 9,
     "metadata": {},
     "output_type": "execute_result"
    }
   ],
   "source": [
    "g.nodes()"
   ]
  },
  {
   "cell_type": "code",
   "execution_count": 10,
   "metadata": {},
   "outputs": [
    {
     "data": {
      "text/plain": [
       "OutEdgeView([('account/6149748', 'customer/10810'), ('account/10000041', 'customer/10000016'), ('account/10000041', 'account/10000043'), ('account/10000043', 'customer/10000016'), ('account/10000043', 'account/10000044'), ('account/6149781', 'customer/10810'), ('account/10000036', 'customer/10000013'), ('account/10000036', 'account/10000041'), ('account/10000040', 'customer/10000015'), ('account/10000040', 'account/10000043'), ('account/10000042', 'customer/10000015'), ('account/10000042', 'account/10000043'), ('account/10000001', 'customer/10000008'), ('account/10000035', 'customer/10000012'), ('account/10000035', 'account/10000040'), ('account/10000027', 'customer/10000002'), ('account/10000027', 'account/10000015'), ('account/10000044', 'customer/10000003'), ('account/10000044', 'account/1000050'), ('account/10000008', 'customer/10000010'), ('account/10000008', 'account/10000010'), ('account/1000054', 'customer/10000016'), ('account/1000054', 'account/10000032'), ('account/4149551', 'customer/10000001'), ('account/10000034', 'customer/10000012'), ('account/10000034', 'account/10000039'), ('account/10000015', 'customer/10000007'), ('account/10000015', 'account/10000030'), ('account/1000053', 'customer/10000014'), ('account/1000053', 'account/1000054'), ('account/10000014', 'customer/10000006'), ('account/10000014', 'account/10000023'), ('account/10000014', 'account/10000001'), ('account/1000050', 'customer/10000003'), ('account/1000050', 'account/1000051'), ('account/10000003', 'customer/10000004'), ('account/10000003', 'account/10000028'), ('account/10000003', 'account/10000003'), ('account/10000022', 'customer/10000006'), ('account/10000022', 'account/10000021'), ('account/10000017', 'customer/10000002'), ('account/10000017', 'account/10000027'), ('account/10000017', 'account/10000007'), ('account/6149795', 'customer/10810'), ('account/10000030', 'customer/10000006'), ('account/10000030', 'account/10000005'), ('account/10000020', 'customer/10000010'), ('account/10000020', 'account/10000014'), ('account/10000013', 'customer/10000008'), ('account/10000013', 'account/10000015'), ('account/10000039', 'customer/10000015'), ('account/10000039', 'account/10000043'), ('account/10000029', 'customer/10000010'), ('account/10000029', 'account/10000031'), ('account/10000019', 'customer/10000009'), ('account/10000028', 'customer/10000006'), ('account/10000037', 'customer/10000014'), ('account/10000037', 'account/10000042'), ('account/10000012', 'customer/10000002'), ('account/10000012', 'account/10000026'), ('account/10000012', 'account/10000021'), ('account/10000012', 'account/10000001'), ('account/10000024', 'customer/10000006'), ('account/10000024', 'account/10000030'), ('account/10000024', 'account/10000008'), ('account/orphan_Account_1', 'customer/10810'), ('account/10000006', 'customer/10000002'), ('account/10000006', 'account/10000018'), ('account/10000006', 'account/10000008'), ('account/10000006', 'account/10000003'), ('account/10000033', 'customer/10000011'), ('account/10000033', 'account/10000038'), ('account/10000031', 'customer/10000002'), ('account/10000031', 'account/10000027'), ('account/10000031', 'account/10000018'), ('account/1000052', 'customer/10000011'), ('account/1000052', 'account/1000053'), ('account/10000026', 'customer/10000008'), ('account/10000011', 'customer/10000009'), ('account/10000011', 'account/10000007'), ('account/10000011', 'account/10000023'), ('account/10000018', 'customer/10000010'), ('account/10000018', 'account/10000025'), ('account/10000010', 'customer/10000007'), ('account/10000010', 'account/10000004'), ('account/10000016', 'customer/10000004'), ('account/10000016', 'account/10000015'), ('account/10000002', 'customer/10000005'), ('account/10000002', 'account/10000001'), ('account/10000002', 'account/10000028'), ('account/10000004', 'customer/10000006'), ('account/10000009', 'customer/10000009'), ('account/10000009', 'account/10000006'), ('account/10000025', 'customer/10000010'), ('account/10000025', 'account/10000019'), ('account/10000038', 'customer/10000014'), ('account/10000038', 'account/10000043'), ('account/10000032', 'customer/10000011'), ('account/10000032', 'account/10000037'), ('account/10000032', 'account/10000035'), ('account/10000032', 'account/10000033'), ('account/10000032', 'account/10000034'), ('account/10000032', 'account/10000036'), ('account/10000023', 'customer/10000005'), ('account/10000023', 'account/10000003'), ('account/10000023', 'account/10000016'), ('account/10000005', 'customer/10000002'), ('account/10000005', 'account/10000013'), ('account/1000051', 'customer/10000013'), ('account/1000051', 'account/1000052'), ('account/10000021', 'customer/10000005'), ('account/10000021', 'account/10000026'), ('account/10000021', 'account/10000018'), ('account/10000007', 'customer/10000009'), ('account/10000007', 'account/10000025'), ('Class/customer', 'Class/branch'), ('Class/account', 'Class/account'), ('Class/account', 'Class/customer'), ('Class/branch', 'Class/bank')])"
      ]
     },
     "execution_count": 10,
     "metadata": {},
     "output_type": "execute_result"
    }
   ],
   "source": [
    "g.edges()"
   ]
  },
  {
   "cell_type": "code",
   "execution_count": null,
   "metadata": {},
   "outputs": [],
   "source": []
  }
 ],
 "metadata": {
  "kernelspec": {
   "display_name": "Python 3",
   "language": "python",
   "name": "python3"
  },
  "language_info": {
   "codemirror_mode": {
    "name": "ipython",
    "version": 3
   },
   "file_extension": ".py",
   "mimetype": "text/x-python",
   "name": "python",
   "nbconvert_exporter": "python",
   "pygments_lexer": "ipython3",
   "version": "3.7.6"
  }
 },
 "nbformat": 4,
 "nbformat_minor": 4
}
