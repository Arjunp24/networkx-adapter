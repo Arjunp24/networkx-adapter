{
 "cells": [
  {
   "cell_type": "code",
   "execution_count": 1,
   "metadata": {},
   "outputs": [
    {
     "name": "stdout",
     "output_type": "stream",
     "text": [
      "Reusing cached credentials.\n",
      "\n",
      "https://5904e8d8a65f.arangodb.cloud:8529\n",
      "Username: TUTcvzmdnahdqqtqg90jwhedl\n",
      "Password: TUTy9qwp7aods0wa97zmyddl\n",
      "Database: TUTlb2w846yqn2457bmox0lh\n"
     ]
    }
   ],
   "source": [
    "import oasis\n",
    "con = oasis.getTempCredentials()\n",
    "\n",
    "print()\n",
    "print(\"https://{}:{}\".format(con[\"hostname\"], con[\"port\"]))\n",
    "print(\"Username: \" + con[\"username\"])\n",
    "print(\"Password: \" + con[\"password\"])\n",
    "print(\"Database: \" + con[\"dbName\"])\n",
    "from adbnx_adapter.imdb_arangoDB_networkx_arango_adapter import IMDBArangoDB_Networkx_Adapter\n",
    "ma = IMDBArangoDB_Networkx_Adapter(conn = con)"
   ]
  },
  {
   "cell_type": "code",
   "execution_count": 2,
   "metadata": {},
   "outputs": [],
   "source": [
    "imdb_attributes = { 'vertexCollections': {'Users': {'user_id'},\\\n",
    "       'Movies': {'movie_id'}},\\\n",
    "                              'edgeCollections' : {'Ratings': {'_from', '_to', 'ratings'}}}"
   ]
  },
  {
   "cell_type": "code",
   "execution_count": 3,
   "metadata": {},
   "outputs": [],
   "source": [
    "g = ma.create_networkx_graph(graph_name = 'IMDBGraph',  graph_attributes =   imdb_attributes)"
   ]
  },
  {
   "cell_type": "code",
   "execution_count": 4,
   "metadata": {},
   "outputs": [
    {
     "data": {
      "text/plain": [
       "{'attr_dict': {'user_id': '', '_id': 'Users/2'}, 'bipartite': 0}"
      ]
     },
     "execution_count": 4,
     "metadata": {},
     "output_type": "execute_result"
    }
   ],
   "source": [
    "g.nodes['Users/2']"
   ]
  },
  {
   "cell_type": "code",
   "execution_count": 5,
   "metadata": {},
   "outputs": [
    {
     "data": {
      "text/plain": [
       "{'attr_dict': {'movie_id': '', '_id': 'Movies/4'}, 'bipartite': 1}"
      ]
     },
     "execution_count": 5,
     "metadata": {},
     "output_type": "execute_result"
    }
   ],
   "source": [
    "g.nodes['Movies/4']"
   ]
  },
  {
   "cell_type": "code",
   "execution_count": 6,
   "metadata": {},
   "outputs": [],
   "source": [
    " m4v = [ t[0] for t in g.in_edges('Movies/4')]"
   ]
  },
  {
   "cell_type": "code",
   "execution_count": 7,
   "metadata": {},
   "outputs": [],
   "source": [
    "from itertools import combinations\n",
    "m4vucmb = list(combinations(m4v, 2))"
   ]
  },
  {
   "cell_type": "code",
   "execution_count": 8,
   "metadata": {},
   "outputs": [
    {
     "data": {
      "text/plain": [
       "'Users/19'"
      ]
     },
     "execution_count": 8,
     "metadata": {},
     "output_type": "execute_result"
    }
   ],
   "source": [
    "m4v[1]"
   ]
  },
  {
   "cell_type": "code",
   "execution_count": 9,
   "metadata": {},
   "outputs": [],
   "source": [
    "import networkx as nx\n",
    "gp = g.to_undirected()\n",
    "jcp = nx.jaccard_coefficient(gp, m4vucmb)"
   ]
  },
  {
   "cell_type": "code",
   "execution_count": 10,
   "metadata": {},
   "outputs": [],
   "source": [
    "gs = nx.DiGraph()\n",
    "for u, v, p in jcp:\n",
    "  gs.add_edge(u, v, weight = p)\n",
    "  #print('(%s, %s) -> %.8f' % (u, v, p))"
   ]
  },
  {
   "cell_type": "code",
   "execution_count": 11,
   "metadata": {},
   "outputs": [
    {
     "data": {
      "text/plain": [
       "9453"
      ]
     },
     "execution_count": 11,
     "metadata": {},
     "output_type": "execute_result"
    }
   ],
   "source": [
    "gs.number_of_edges()"
   ]
  },
  {
   "cell_type": "code",
   "execution_count": 12,
   "metadata": {},
   "outputs": [
    {
     "name": "stdout",
     "output_type": "stream",
     "text": [
      "Requirement already satisfied: node2vec in /home/admin2/anaconda3/lib/python3.7/site-packages (0.3.1)\n",
      "Requirement already satisfied: networkx in /home/admin2/anaconda3/lib/python3.7/site-packages (from node2vec) (2.4)\n",
      "Requirement already satisfied: gensim in /home/admin2/anaconda3/lib/python3.7/site-packages (from node2vec) (3.8.1)\n",
      "Requirement already satisfied: tqdm in /home/admin2/.local/lib/python3.7/site-packages (from node2vec) (4.32.1)\n",
      "Requirement already satisfied: joblib>=0.13.2 in /home/admin2/anaconda3/lib/python3.7/site-packages (from node2vec) (0.14.1)\n",
      "Requirement already satisfied: numpy in /home/admin2/anaconda3/lib/python3.7/site-packages (from node2vec) (1.18.1)\n",
      "Requirement already satisfied: decorator>=4.3.0 in /home/admin2/anaconda3/lib/python3.7/site-packages (from networkx->node2vec) (4.4.1)\n",
      "Requirement already satisfied: scipy>=0.18.1 in /home/admin2/anaconda3/lib/python3.7/site-packages (from gensim->node2vec) (1.3.2)\n",
      "Requirement already satisfied: six>=1.5.0 in /home/admin2/anaconda3/lib/python3.7/site-packages (from gensim->node2vec) (1.13.0)\n",
      "Requirement already satisfied: smart-open>=1.8.1 in /home/admin2/anaconda3/lib/python3.7/site-packages (from gensim->node2vec) (1.8.4)\n",
      "Requirement already satisfied: boto3 in /home/admin2/anaconda3/lib/python3.7/site-packages (from smart-open>=1.8.1->gensim->node2vec) (1.11.0)\n",
      "Requirement already satisfied: requests in /home/admin2/anaconda3/lib/python3.7/site-packages (from smart-open>=1.8.1->gensim->node2vec) (2.22.0)\n",
      "Requirement already satisfied: boto>=2.32 in /home/admin2/anaconda3/lib/python3.7/site-packages (from smart-open>=1.8.1->gensim->node2vec) (2.49.0)\n",
      "Requirement already satisfied: botocore<1.15.0,>=1.14.0 in /home/admin2/anaconda3/lib/python3.7/site-packages (from boto3->smart-open>=1.8.1->gensim->node2vec) (1.14.0)\n",
      "Requirement already satisfied: s3transfer<0.4.0,>=0.3.0 in /home/admin2/anaconda3/lib/python3.7/site-packages (from boto3->smart-open>=1.8.1->gensim->node2vec) (0.3.0)\n",
      "Requirement already satisfied: jmespath<1.0.0,>=0.7.1 in /home/admin2/anaconda3/lib/python3.7/site-packages (from boto3->smart-open>=1.8.1->gensim->node2vec) (0.9.4)\n",
      "Requirement already satisfied: certifi>=2017.4.17 in /home/admin2/anaconda3/lib/python3.7/site-packages (from requests->smart-open>=1.8.1->gensim->node2vec) (2020.4.5.1)\n",
      "Requirement already satisfied: chardet<3.1.0,>=3.0.2 in /home/admin2/anaconda3/lib/python3.7/site-packages (from requests->smart-open>=1.8.1->gensim->node2vec) (3.0.4)\n",
      "Requirement already satisfied: urllib3!=1.25.0,!=1.25.1,<1.26,>=1.21.1 in /home/admin2/anaconda3/lib/python3.7/site-packages (from requests->smart-open>=1.8.1->gensim->node2vec) (1.25.7)\n",
      "Requirement already satisfied: idna<2.9,>=2.5 in /home/admin2/anaconda3/lib/python3.7/site-packages (from requests->smart-open>=1.8.1->gensim->node2vec) (2.8)\n",
      "Requirement already satisfied: docutils<0.16,>=0.10 in /home/admin2/.local/lib/python3.7/site-packages (from botocore<1.15.0,>=1.14.0->boto3->smart-open>=1.8.1->gensim->node2vec) (0.14)\n",
      "Requirement already satisfied: python-dateutil<3.0.0,>=2.1 in /home/admin2/anaconda3/lib/python3.7/site-packages (from botocore<1.15.0,>=1.14.0->boto3->smart-open>=1.8.1->gensim->node2vec) (2.8.1)\n"
     ]
    }
   ],
   "source": [
    "!pip install node2vec"
   ]
  },
  {
   "cell_type": "code",
   "execution_count": 13,
   "metadata": {},
   "outputs": [
    {
     "name": "stderr",
     "output_type": "stream",
     "text": [
      "Computing transition probabilities: 100%|██████████| 138/138 [00:01<00:00, 127.62it/s]\n"
     ]
    }
   ],
   "source": [
    "from node2vec import Node2Vec\n",
    "node2vec = Node2Vec(gs, dimensions=32, walk_length=10, num_walks=30, workers=4)"
   ]
  },
  {
   "cell_type": "code",
   "execution_count": 14,
   "metadata": {},
   "outputs": [],
   "source": [
    "model = node2vec.fit(window=10, min_count=1, batch_words=4)"
   ]
  },
  {
   "cell_type": "code",
   "execution_count": 15,
   "metadata": {},
   "outputs": [
    {
     "data": {
      "text/plain": [
       "[('Users/92', 0.9994627237319946),\n",
       " ('Users/394', 0.9992709159851074),\n",
       " ('Users/393', 0.9992488622665405),\n",
       " ('Users/7', 0.9992043972015381),\n",
       " ('Users/621', 0.9991756677627563),\n",
       " ('Users/429', 0.9991444945335388),\n",
       " ('Users/535', 0.9990981817245483),\n",
       " ('Users/796', 0.9990875720977783),\n",
       " ('Users/151', 0.9990612268447876),\n",
       " ('Users/189', 0.9990416765213013)]"
      ]
     },
     "execution_count": 15,
     "metadata": {},
     "output_type": "execute_result"
    }
   ],
   "source": [
    "model.wv.most_similar(m4v[5])"
   ]
  },
  {
   "cell_type": "code",
   "execution_count": null,
   "metadata": {},
   "outputs": [],
   "source": []
  }
 ],
 "metadata": {
  "kernelspec": {
   "display_name": "Python 3",
   "language": "python",
   "name": "python3"
  },
  "language_info": {
   "codemirror_mode": {
    "name": "ipython",
    "version": 3
   },
   "file_extension": ".py",
   "mimetype": "text/x-python",
   "name": "python",
   "nbconvert_exporter": "python",
   "pygments_lexer": "ipython3",
   "version": "3.7.6"
  }
 },
 "nbformat": 4,
 "nbformat_minor": 2
}
