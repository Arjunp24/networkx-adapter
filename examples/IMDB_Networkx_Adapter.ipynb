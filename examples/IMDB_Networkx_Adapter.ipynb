{
 "cells": [
  {
   "cell_type": "markdown",
   "metadata": {
    "colab_type": "text",
    "id": "view-in-github"
   },
   "source": [
    "<a href=\"https://colab.research.google.com/github/arangoml/networkx-adapter/blob/doc_updates_nx/examples/IMDB_Networkx_Adapter.ipynb\" target=\"_parent\"><img src=\"https://colab.research.google.com/assets/colab-badge.svg\" alt=\"Open In Colab\"/></a>"
   ]
  },
  {
   "cell_type": "markdown",
   "metadata": {
    "colab_type": "text",
    "id": "VLfArBaMRTiM"
   },
   "source": [
    "# Analysis of IMDB data using the ArangoDB Netoworkx adapter "
   ]
  },
  {
   "cell_type": "markdown",
   "metadata": {
    "colab_type": "text",
    "id": "Wd0_wS6TRTiO"
   },
   "source": [
    "This notebook provides the details of using the ArangoDB IMDB NetworkX adapter to develop a _node2vec_ embedding of the viewers of a movie from the _IMDB_ database. "
   ]
  },
  {
   "cell_type": "markdown",
   "metadata": {
    "colab_type": "text",
    "id": "NwlgpvAcRTiP"
   },
   "source": [
    "## Install Required Libraries "
   ]
  },
  {
   "cell_type": "markdown",
   "metadata": {
    "colab_type": "text",
    "id": "view-in-github"
   },
   "source": [
    "<a href=\"https://colab.research.google.com/github/arangoml/networkx-adapter/blob/dgl_updates/examples/IMDB_Networkx_Adapter.ipynb\" target=\"_parent\"><img src=\"https://colab.research.google.com/assets/colab-badge.svg\" alt=\"Open In Colab\"/></a>"
   ]
  },
  {
   "cell_type": "code",
   "execution_count": 1,
   "metadata": {
    "colab": {},
    "colab_type": "code",
    "id": "ZMtTZ5Oth0N-"
   },
   "outputs": [],
   "source": [
    "%%capture\n",
    "# !git clone -b master https://github.com/arangoml/networkx-adapter.git\n",
    "# !rsync -av networkx-adapter/examples/ ./ --exclude=.git\n",
    "# !pip3 install networkx\n",
    "# !pip3 install matplotlib\n",
    "# !pip3 install --index-url https://test.pypi.org/simple/ adbnx-adapter==0.0.0.2.5.3\n",
    "# !pip3 install pyarango\n",
    "# !pip3 install python-arango\n",
    "# !pip install node2vec\n",
    "# !pip install seaborn"
   ]
  },
  {
   "cell_type": "code",
   "execution_count": 2,
   "metadata": {
    "colab": {},
    "colab_type": "code",
    "id": "oBYYw8ttSbBm"
   },
   "outputs": [],
   "source": [
    "!rm creds.dat\n",
    "!touch creds.dat"
   ]
  },
  {
   "cell_type": "markdown",
   "metadata": {
    "colab_type": "text",
    "id": "BRAQ2O7fRTiX"
   },
   "source": [
    "## Get a Oasis Connection"
   ]
  },
  {
   "cell_type": "markdown",
   "metadata": {
    "colab_type": "text",
    "id": "kTLmib2BRTiY"
   },
   "source": [
    "__Oasis__, the managed database service offering from ArangoDB, will be used for this exercise. This eliminates the need for setting up and configuring an instance of a database."
   ]
  },
  {
   "cell_type": "code",
   "execution_count": 3,
   "metadata": {
    "colab": {},
    "colab_type": "code",
    "id": "9voIoaGRS0cB"
   },
   "outputs": [
    {
     "name": "stdout",
     "output_type": "stream",
     "text": [
      "Requesting new temp credentials.\n",
      "Temp database ready to use.\n",
      "\n",
      "https://d383fa0b596a.arangodb.cloud:8529\n",
      "Username: TUT7enx5qex5jhe0ba7pjzf6b\n",
      "Password: TUTgzewyj1yebqpyvagaym8dj\n",
      "Database: TUTjxlkiqlptukfi8j61cjsrc\n"
     ]
    }
   ],
   "source": [
    "from adbnx_adapter.imdb_arangoDB_networkx_adapter import IMDBArangoDB_Networkx_Adapter\n",
    "import oasis\n",
    "con = oasis.getTempCredentials()\n",
    "\n",
    "print()\n",
    "print(\"https://{}:{}\".format(con[\"hostname\"], con[\"port\"]))\n",
    "print(\"Username: \" + con[\"username\"])\n",
    "print(\"Password: \" + con[\"password\"])\n",
    "print(\"Database: \" + con[\"dbName\"])\n",
    "\n",
    "\n",
    "ma = IMDBArangoDB_Networkx_Adapter(conn=con)"
   ]
  },
  {
   "cell_type": "markdown",
   "metadata": {
    "colab_type": "text",
    "id": "APNXpksoRTif"
   },
   "source": [
    "## Create the Collections for the Database "
   ]
  },
  {
   "cell_type": "code",
   "execution_count": 4,
   "metadata": {
    "colab": {},
    "colab_type": "code",
    "id": "RQAoZi3AW9ru"
   },
   "outputs": [],
   "source": [
    "# Connect to the temp database\n",
    "conn = oasis.connect(con)\n",
    "db = conn[con[\"dbName\"]]"
   ]
  },
  {
   "cell_type": "code",
   "execution_count": 5,
   "metadata": {
    "colab": {},
    "colab_type": "code",
    "id": "tDmWTWYkW6VW"
   },
   "outputs": [
    {
     "name": "stdout",
     "output_type": "stream",
     "text": [
      "Collection/Graph Setup done.\n"
     ]
    }
   ],
   "source": [
    "import csv\n",
    "import json\n",
    "import requests\n",
    "import sys\n",
    "import oasis\n",
    "\n",
    "\n",
    "from pyArango.connection import *\n",
    "from pyArango.collection import Collection, Edges, Field\n",
    "from pyArango.graph import Graph, EdgeDefinition\n",
    "from pyArango.collection import BulkOperation as BulkOperation\n",
    "from pyArango.collection import Collection, Field\n",
    "from pyArango.graph import Graph, EdgeDefinition\n",
    "\n",
    "\n",
    "class Users(Collection):\n",
    "    _fields = {\n",
    "        \"user_id\": Field(),\n",
    "        \"age\": Field(),\n",
    "        \"gender\": Field()\n",
    "    }\n",
    "    \n",
    "class Movies(Collection):\n",
    "    _fields = {\n",
    "        \"movie_id\": Field(),\n",
    "        \"movie_title\": Field(),\n",
    "        \"release_data\": Field()\n",
    "    }\n",
    "\n",
    "class Ratings(Edges): \n",
    "    _fields = {\n",
    "        #user_id and item_id are encoded by _from, _to \n",
    "        \"rating\": Field(),\n",
    "        \"timestamp\": Field()\n",
    "    }\n",
    "\n",
    "class IMDBGraph(Graph) :\n",
    "    _edgeDefinitions = [EdgeDefinition(\"Ratings\", fromCollections=[\"Users\"], toCollections=[\"Movies\"])]\n",
    "    _orphanedCollections = []\n",
    "\n",
    "db.createCollection(\"Users\")\n",
    "db.createCollection(\"Movies\")\n",
    "db.createCollection(\"Ratings\")\n",
    "iMDBGraph = db.createGraph(\"IMDBGraph\")\n",
    "\n",
    "print(\"Collection/Graph Setup done.\")"
   ]
  },
  {
   "cell_type": "markdown",
   "metadata": {
    "colab_type": "text",
    "id": "f0nSSiRnRTit"
   },
   "source": [
    "## Load the Data "
   ]
  },
  {
   "cell_type": "code",
   "execution_count": 6,
   "metadata": {
    "colab": {},
    "colab_type": "code",
    "id": "neURfa3jXPs5"
   },
   "outputs": [
    {
     "name": "stdout",
     "output_type": "stream",
     "text": [
      "Import Done\n"
     ]
    }
   ],
   "source": [
    "collection = db[\"Users\"]\n",
    "with BulkOperation(collection, batchSize=100) as col:\n",
    "    with open('data/users.csv', newline='') as csvfile:\n",
    "        reader = csv.reader(csvfile, delimiter=',', quotechar='|')\n",
    "        # Skip header\n",
    "        next(reader)\n",
    "        for row in reader:\n",
    "            user_id, age, gender, occupation, zip = tuple(row)\n",
    "            doc = col.createDocument()\n",
    "            doc[\"_key\"] = user_id\n",
    "#             doc[\"age\"] = age\n",
    "#             doc[\"gender\"] = gender\n",
    "            doc.save()\n",
    "\n",
    "collection = db[\"Movies\"]\n",
    "with BulkOperation(collection, batchSize=100) as col:\n",
    "    with open('data/movies.csv', newline='') as csvfile:\n",
    "        reader = csv.reader(csvfile, delimiter=',', quotechar='|')\n",
    "        # Skip header\n",
    "        next(reader)\n",
    "        for row in reader:\n",
    "            movie_id, movie_title, release_date, video_release_date, url, unknown, action, adventure, animation, childrens, comedy, crime, documentary, drama, fantasy, noir, horror, musical, mystery, romance, scifi, thriller, war, western = tuple(\n",
    "                row)\n",
    "            doc = col.createDocument()\n",
    "            doc[\"_key\"] = movie_id\n",
    "#             doc[\"movie_title\"] = movie_title\n",
    "#             doc[\"release_date\"] = release_date\n",
    "            doc.save()\n",
    "\n",
    "collection = db[\"Ratings\"]\n",
    "with BulkOperation(collection, batchSize=1000) as col:\n",
    "    with open('data/ratings.csv', newline='') as csvfile:\n",
    "        reader = csv.reader(csvfile, delimiter=',', quotechar='|')\n",
    "        # Skip header\n",
    "        next(reader)\n",
    "        for row in reader:\n",
    "            user_id, movie_id, rating, timestamp = tuple(row)\n",
    "            doc = col.createDocument()\n",
    "            doc[\"_from\"] = \"Users/\"+user_id\n",
    "            doc[\"_to\"] = \"Movies/\"+movie_id\n",
    "            doc[\"ratings\"] = rating\n",
    "#             doc[\"timestamp\"] = timestamp\n",
    "            doc.save()\n",
    "\n",
    "print(\"Import Done\")"
   ]
  },
  {
   "cell_type": "markdown",
   "metadata": {
    "colab_type": "text",
    "id": "tua4CIHYRTi0"
   },
   "source": [
    "## Specify the Graph Structure "
   ]
  },
  {
   "cell_type": "markdown",
   "metadata": {
    "colab_type": "text",
    "id": "9oKkkRxwRTi0"
   },
   "source": [
    "To use the IMDB Networkx Adapter, we need to specify the structure of the graph that we want to create. This is done with a simple dictionary. The details of creating the _Networkx_ graph are shown below."
   ]
  },
  {
   "cell_type": "code",
   "execution_count": 7,
   "metadata": {
    "colab": {},
    "colab_type": "code",
    "id": "wobwe8KqXXi2"
   },
   "outputs": [],
   "source": [
    "imdb_attributes = {'vertexCollections': {'Users': {},\n",
    "                                         'Movies': {}},\n",
    "                   'edgeCollections': {'Ratings': {'_from', '_to', 'ratings'}}}"
   ]
  },
  {
   "cell_type": "markdown",
   "metadata": {},
   "source": [
    "## Utility of the Networkx Interface\n",
    "We just created a networkx graph for this problem, most analysis tasks with the graph require the following:\n",
    "1. Understand the graph structure: We are interested in summary level statistics like number of nodes and edges. Distributional characteristics like degree distribution of nodes, clustering coefficients etc.\n",
    "2. Investigate or explore a sub-graph of interest\n",
    "3. Perform a learning problem on the graph.\n",
    "Networkx provides API for tasks (1) and (2). It provides many algorithms for task (3). Many libraries for machine learning on graphs accept Graphs specified in as networkx graphs as input. Therefore, the networkx-adapter interface positions us well to perform analytics tasks on graphs. We will illustrate these ideas with an example.\n"
   ]
  },
  {
   "cell_type": "markdown",
   "metadata": {},
   "source": [
    "## Obtain the networkx graph"
   ]
  },
  {
   "cell_type": "code",
   "execution_count": 8,
   "metadata": {
    "colab": {},
    "colab_type": "code",
    "id": "jjJZJEgvXZ0W"
   },
   "outputs": [],
   "source": [
    "g = ma.create_networkx_graph(\n",
    "    graph_name='IMDBGraph',  graph_attributes=imdb_attributes)"
   ]
  },
  {
   "cell_type": "markdown",
   "metadata": {},
   "source": [
    "## Get the user and movie nodes"
   ]
  },
  {
   "cell_type": "code",
   "execution_count": 9,
   "metadata": {},
   "outputs": [],
   "source": [
    "user_nodes = [n for n in g.nodes() if n.startswith(\"Users\")]\n",
    "movie_nodes = [n for n in g.nodes() if n.startswith(\"Movies\")]"
   ]
  },
  {
   "cell_type": "markdown",
   "metadata": {},
   "source": [
    "## Structural Property Introspection: Number of Nodes and Edges"
   ]
  },
  {
   "cell_type": "code",
   "execution_count": 10,
   "metadata": {},
   "outputs": [
    {
     "name": "stdout",
     "output_type": "stream",
     "text": [
      "Number of Users are 943\n",
      "Number of Movies are 1682\n",
      "Number of Ratings are 65499\n"
     ]
    }
   ],
   "source": [
    "print(\"Number of Users are %d\" % (len(user_nodes)))\n",
    "print(\"Number of Movies are %d\" % (len(movie_nodes)))\n",
    "print(\"Number of Ratings are %d\" % (len(list(g.edges()))))"
   ]
  },
  {
   "cell_type": "markdown",
   "metadata": {},
   "source": [
    "## Convert the graph obtained from the interface to a bi-partite graph "
   ]
  },
  {
   "cell_type": "code",
   "execution_count": 11,
   "metadata": {},
   "outputs": [],
   "source": [
    "import networkx as nx\n",
    "B = nx.Graph()\n",
    "B.add_nodes_from(user_nodes, bipartite=0)\n",
    "B.add_nodes_from(movie_nodes, bipartite=1)\n",
    "B.add_edges_from(list(g.edges()))"
   ]
  },
  {
   "cell_type": "code",
   "execution_count": 12,
   "metadata": {},
   "outputs": [
    {
     "data": {
      "text/plain": [
       "True"
      ]
     },
     "execution_count": 12,
     "metadata": {},
     "output_type": "execute_result"
    }
   ],
   "source": [
    "from networkx.algorithms import bipartite\n",
    "bipartite.is_bipartite(B)"
   ]
  },
  {
   "cell_type": "markdown",
   "metadata": {},
   "source": [
    "## Can we find users who have not rated a movie in common?\n",
    "We can identify this by checking to see if the graph is connected. If the graph is connected, then there is a path between any two users in the graph."
   ]
  },
  {
   "cell_type": "code",
   "execution_count": 13,
   "metadata": {},
   "outputs": [
    {
     "data": {
      "text/plain": [
       "False"
      ]
     },
     "execution_count": 13,
     "metadata": {},
     "output_type": "execute_result"
    }
   ],
   "source": [
    "nx.is_connected(B)"
   ]
  },
  {
   "cell_type": "code",
   "execution_count": 14,
   "metadata": {},
   "outputs": [],
   "source": [
    "users = [n for n in B.nodes if B.nodes[n]['bipartite'] == 0]\n",
    "movies = [n for n in B.nodes if B.nodes[n]['bipartite'] == 1]"
   ]
  },
  {
   "cell_type": "markdown",
   "metadata": {},
   "source": [
    "## How many movies does a User rate?\n",
    "This is a distribution. A review of the plot below will show the familiar long tailed distribution. Most viewers rate less than say 100 movies. There are some serious reviewers out there though. These are on the tail of the distribution."
   ]
  },
  {
   "cell_type": "code",
   "execution_count": 15,
   "metadata": {},
   "outputs": [],
   "source": [
    "degu, degm = bipartite.degrees(B, movies)"
   ]
  },
  {
   "cell_type": "code",
   "execution_count": 16,
   "metadata": {},
   "outputs": [],
   "source": [
    "du = [v for k,v in degu]"
   ]
  },
  {
   "cell_type": "code",
   "execution_count": 17,
   "metadata": {},
   "outputs": [
    {
     "data": {
      "image/png": "[encoded data removed]",
      "text/plain": [
       "<Figure size 720x360 with 1 Axes>"
      ]
     },
     "metadata": {},
     "output_type": "display_data"
    }
   ],
   "source": [
    "import matplotlib.pyplot as plt\n",
    "plt.rcParams['figure.figsize'] = [10, 5]\n",
    "ax = plt.hist(du)\n",
    "plt.title(\"Histogram of the Number of Movies Viewed\")\n",
    "plt.xlabel(\"Movies Viewed\")\n",
    "plt.grid(True)"
   ]
  },
  {
   "cell_type": "markdown",
   "metadata": {},
   "source": [
    "## How many users rate a movie?\n",
    "This is also a distribution that also has the long tailed behavior. Most mvoies are rated by less than 100 users. There are some movies that are rated by many viewers though."
   ]
  },
  {
   "cell_type": "code",
   "execution_count": 18,
   "metadata": {},
   "outputs": [
    {
     "data": {
      "image/png": "[encoded data removed]",
      "text/plain": [
       "<Figure size 720x360 with 1 Axes>"
      ]
     },
     "metadata": {},
     "output_type": "display_data"
    }
   ],
   "source": [
    "dm = [v for k,v in degm]\n",
    "plt.rcParams['figure.figsize'] = [10, 5]\n",
    "ax = plt.hist(dm)\n",
    "plt.title(\"Histogram of the Number of Viewers Rating a Movie\")\n",
    "plt.xlabel(\"Number of Viewers\")\n",
    "plt.grid(True)"
   ]
  },
  {
   "cell_type": "markdown",
   "metadata": {},
   "source": [
    "## Centrality Measures\n",
    "We saw that movie ratings by users as well as movie viewership exhibit long tailed behavior. How do we formalize the observations about movie importance and the user's rating behavior in the given network? The notion of centrality measure is useful in this regard. Centrality measures identify the important nodes in a network. We will use degree centraility in this example (see the [documentation](https://networkx.github.io/documentation/stable/reference/algorithms/generated/networkx.algorithms.bipartite.centrality.degree_centrality.html) for details). In the illustrations below, we will capture the top 10 users and movies in terms of importance as determined by this measure "
   ]
  },
  {
   "cell_type": "code",
   "execution_count": 19,
   "metadata": {},
   "outputs": [],
   "source": [
    "dc= bipartite.degree_centrality(B, users)\n",
    "sdcu = {}\n",
    "sdcm = {}\n",
    "for k, v in sorted(dc.items(),reverse=True, key=lambda item: item[1]):\n",
    "    if k.startswith(\"Users\"):\n",
    "        sdcu[k] = v\n",
    "    else:\n",
    "        sdcm[k] = v\n",
    "\n",
    "del dc"
   ]
  },
  {
   "cell_type": "markdown",
   "metadata": {},
   "source": [
    "## List the top 10 users in terms of degree centrality\n",
    "These guys rate a lot of movies"
   ]
  },
  {
   "cell_type": "code",
   "execution_count": 20,
   "metadata": {
    "scrolled": true
   },
   "outputs": [
    {
     "data": {
      "text/plain": [
       "['Users/405',\n",
       " 'Users/13',\n",
       " 'Users/276',\n",
       " 'Users/450',\n",
       " 'Users/234',\n",
       " 'Users/303',\n",
       " 'Users/416',\n",
       " 'Users/655',\n",
       " 'Users/181',\n",
       " 'Users/393']"
      ]
     },
     "execution_count": 20,
     "metadata": {},
     "output_type": "execute_result"
    }
   ],
   "source": [
    "list(sdcu.keys())[:10]"
   ]
  },
  {
   "cell_type": "markdown",
   "metadata": {},
   "source": [
    "## List the top 10 movies in terms of degree centrality\n",
    "These movies are rated by a lot of people"
   ]
  },
  {
   "cell_type": "code",
   "execution_count": 21,
   "metadata": {},
   "outputs": [
    {
     "data": {
      "text/plain": [
       "['Movies/50',\n",
       " 'Movies/258',\n",
       " 'Movies/100',\n",
       " 'Movies/288',\n",
       " 'Movies/181',\n",
       " 'Movies/286',\n",
       " 'Movies/294',\n",
       " 'Movies/1',\n",
       " 'Movies/56',\n",
       " 'Movies/98']"
      ]
     },
     "execution_count": 21,
     "metadata": {},
     "output_type": "execute_result"
    }
   ],
   "source": [
    "list(sdcm.keys())[:10]"
   ]
  },
  {
   "cell_type": "markdown",
   "metadata": {},
   "source": [
    "## How does this importance measure vary over the user community?\n",
    "We can get a sense of this by viewing the distribution of this measure."
   ]
  },
  {
   "cell_type": "code",
   "execution_count": 22,
   "metadata": {},
   "outputs": [
    {
     "data": {
      "text/plain": [
       "Text(0.5, 0, 'User Degree Centraility')"
      ]
     },
     "execution_count": 22,
     "metadata": {},
     "output_type": "execute_result"
    },
    {
     "data": {
      "image/png": "[encoded data removed]",
      "text/plain": [
       "<Figure size 842.4x595.44 with 1 Axes>"
      ]
     },
     "metadata": {},
     "output_type": "display_data"
    }
   ],
   "source": [
    "import seaborn as sns\n",
    "import numpy as np\n",
    "npvals = np.fromiter(sdcu.values(), dtype=float)\n",
    "sns.set(rc={'figure.figsize':(11.7,8.27)})\n",
    "ax = sns.distplot(npvals, hist = False)\n",
    "plt.title(\"Distribution of User Degree Centrality\")\n",
    "plt.xlabel(\"User Degree Centraility\")\n"
   ]
  },
  {
   "cell_type": "markdown",
   "metadata": {},
   "source": [
    "## How does this importance measure vary over the movie community?"
   ]
  },
  {
   "cell_type": "code",
   "execution_count": 23,
   "metadata": {},
   "outputs": [
    {
     "data": {
      "text/plain": [
       "Text(0.5, 0, 'Movie Degree Centraility')"
      ]
     },
     "execution_count": 23,
     "metadata": {},
     "output_type": "execute_result"
    },
    {
     "data": {
      "image/png": "[encoded data removed]",
      "text/plain": [
       "<Figure size 842.4x595.44 with 1 Axes>"
      ]
     },
     "metadata": {},
     "output_type": "display_data"
    }
   ],
   "source": [
    "import seaborn as sns\n",
    "import numpy as np\n",
    "npvals = np.fromiter(sdcm.values(), dtype=float)\n",
    "sns.set(rc={'figure.figsize':(11.7,8.27)})\n",
    "ax = sns.distplot(npvals, hist = False)\n",
    "plt.title(\"Distribution of Movie Degree Centrality\")\n",
    "plt.xlabel(\"Movie Degree Centraility\")\n"
   ]
  },
  {
   "cell_type": "code",
   "execution_count": 24,
   "metadata": {
    "colab": {},
    "colab_type": "code",
    "id": "x1vtgYbAXpec"
   },
   "outputs": [],
   "source": [
    "m4v = [t[0] for t in g.in_edges('Movies/4')]"
   ]
  },
  {
   "cell_type": "markdown",
   "metadata": {},
   "source": [
    "## Analysis of a Subgraph\n",
    "Now that we have information about characteristics of the dataset, let's illustrate the utility of the Networkx interface with machine learning tasks. For this purpose, consider the task of analyzing the group of users for a particular movie. To make this concrete, let's pick 'Movies/4'. We would like to understand the community of users who have rated this movie. For this purpose we will use Node2vec. Node2vec performs what is called representation learning. The idea is to encode the graph structure into a numerical representation. We can use visualization techniques such as the t Stochastic Nieghbor embedding to understand and visualize the data once we have this numerical representation. The Node2Vec library can work with Networkx graphs. Therefore, we are in a position to use Node2vec for our analysis."
   ]
  },
  {
   "cell_type": "markdown",
   "metadata": {
    "colab_type": "text",
    "id": "y4W1MtL-RTjK"
   },
   "source": [
    "## How similar are viewers of the movie 'Get Shorty'?\n",
    "The notion of similarity relates to measures used to capture how similar two nodes in a network are to each other. There are various measures to capture similarity. In this example, we will use the __Jaccard__ similarity. We first get all pairs of users who have seen the movie and then compute the __Jaccard__ similarity between them. The details are shown below. Networkx provides an API for this purpose that we will use."
   ]
  },
  {
   "cell_type": "code",
   "execution_count": 25,
   "metadata": {
    "colab": {},
    "colab_type": "code",
    "id": "z4WoMVchXtVq"
   },
   "outputs": [],
   "source": [
    "from itertools import combinations\n",
    "m4vucmb = list(combinations(m4v, 2))"
   ]
  },
  {
   "cell_type": "code",
   "execution_count": 26,
   "metadata": {
    "colab": {},
    "colab_type": "code",
    "id": "3Z4VBUvkXyHl"
   },
   "outputs": [],
   "source": [
    "import networkx as nx\n",
    "gp = g.to_undirected()\n",
    "jcp = nx.jaccard_coefficient(gp, m4vucmb)"
   ]
  },
  {
   "cell_type": "markdown",
   "metadata": {
    "colab_type": "text",
    "id": "vo538HEmRTjU"
   },
   "source": [
    "## Create a complete sub-graph for the viewers of 'Get Shorty' using the Jaccard Simlarity for the edge weights\n",
    "We will construct a complete graph using the viewers of the movie \"Get Shorty\". The edge weight between a pair of users will be the Jaccard similarity"
   ]
  },
  {
   "cell_type": "code",
   "execution_count": 27,
   "metadata": {
    "colab": {},
    "colab_type": "code",
    "id": "f2i7Puh9X14N"
   },
   "outputs": [],
   "source": [
    "gs = nx.DiGraph()\n",
    "jcpv = []\n",
    "for u, v, p in jcp:\n",
    "    gs.add_edge(u, v, weight=p)\n",
    "    jcpv.append(p)\n",
    "    #print('(%s, %s) -> %.8f' % (u, v, p))"
   ]
  },
  {
   "cell_type": "markdown",
   "metadata": {
    "colab_type": "text",
    "id": "n0L-tUzXRTjY"
   },
   "source": [
    "## How many edges does the complete sub-graph have?"
   ]
  },
  {
   "cell_type": "code",
   "execution_count": 28,
   "metadata": {
    "colab": {},
    "colab_type": "code",
    "id": "MhRMcp_8X582"
   },
   "outputs": [
    {
     "data": {
      "text/plain": [
       "9453"
      ]
     },
     "execution_count": 28,
     "metadata": {},
     "output_type": "execute_result"
    }
   ],
   "source": [
    "gs.number_of_edges()"
   ]
  },
  {
   "cell_type": "markdown",
   "metadata": {},
   "source": [
    "## What does the distribution of User Similarity look like?"
   ]
  },
  {
   "cell_type": "code",
   "execution_count": 29,
   "metadata": {},
   "outputs": [
    {
     "data": {
      "text/plain": [
       "Text(0.5, 0, 'Jaccard Similarity')"
      ]
     },
     "execution_count": 29,
     "metadata": {},
     "output_type": "execute_result"
    },
    {
     "data": {
      "image/png": "[encoded data removed]",
      "text/plain": [
       "<Figure size 842.4x595.44 with 1 Axes>"
      ]
     },
     "metadata": {},
     "output_type": "display_data"
    }
   ],
   "source": [
    "import seaborn as sns\n",
    "import numpy as np\n",
    "sns.set(rc={'figure.figsize':(11.7,8.27)})\n",
    "ax = sns.distplot(jcpv, hist = False)\n",
    "plt.title(\"Distribution of Jaccard Similarity between Raters of Get Shorty\")\n",
    "plt.xlabel(\"Jaccard Similarity\")"
   ]
  },
  {
   "cell_type": "code",
   "execution_count": 36,
   "metadata": {},
   "outputs": [],
   "source": [
    "cr = bipartite.clustering(B)\n",
    "cu = {}\n",
    "cm = {}\n",
    "for k, v in sorted(cr.items(),reverse=True, key=lambda item: item[1]):\n",
    "    if k.startswith(\"Users\"):\n",
    "        cu[k] = v\n",
    "    else:\n",
    "        cm[k] = v\n",
    "\n",
    "del cr"
   ]
  },
  {
   "cell_type": "markdown",
   "metadata": {},
   "source": [
    "## List the top 10 users in terms of clustering tendencies \n",
    "These users share a high degree of common movie rating activity with other users."
   ]
  },
  {
   "cell_type": "code",
   "execution_count": 37,
   "metadata": {},
   "outputs": [
    {
     "data": {
      "text/plain": [
       "['Users/72',\n",
       " 'Users/297',\n",
       " 'Users/64',\n",
       " 'Users/178',\n",
       " 'Users/533',\n",
       " 'Users/493',\n",
       " 'Users/347',\n",
       " 'Users/301',\n",
       " 'Users/198',\n",
       " 'Users/249']"
      ]
     },
     "execution_count": 37,
     "metadata": {},
     "output_type": "execute_result"
    }
   ],
   "source": [
    "list(cu.keys())[:10]"
   ]
  },
  {
   "cell_type": "markdown",
   "metadata": {},
   "source": [
    "## List the top 10 movies in terms of clustering tendencies \n",
    "These movies have a high degree of common users rating them."
   ]
  },
  {
   "cell_type": "code",
   "execution_count": 38,
   "metadata": {},
   "outputs": [
    {
     "data": {
      "text/plain": [
       "['Movies/1643',\n",
       " 'Movies/1663',\n",
       " 'Movies/1652',\n",
       " 'Movies/1669',\n",
       " 'Movies/1320',\n",
       " 'Movies/1340',\n",
       " 'Movies/1342',\n",
       " 'Movies/1362',\n",
       " 'Movies/1364',\n",
       " 'Movies/1365']"
      ]
     },
     "execution_count": 38,
     "metadata": {},
     "output_type": "execute_result"
    }
   ],
   "source": [
    "list(cm.keys())[:10]"
   ]
  },
  {
   "cell_type": "markdown",
   "metadata": {},
   "source": [
    "## How does user clustering tendency vary over the community?"
   ]
  },
  {
   "cell_type": "code",
   "execution_count": 39,
   "metadata": {},
   "outputs": [
    {
     "data": {
      "text/plain": [
       "Text(0.5, 0, 'User Clustering Coefficients')"
      ]
     },
     "execution_count": 39,
     "metadata": {},
     "output_type": "execute_result"
    },
    {
     "data": {
      "image/png": "[encoded data removed]",
      "text/plain": [
       "<Figure size 842.4x595.44 with 1 Axes>"
      ]
     },
     "metadata": {},
     "output_type": "display_data"
    }
   ],
   "source": [
    "import seaborn as sns\n",
    "import numpy as np\n",
    "npvals = np.fromiter(cu.values(), dtype=float)\n",
    "sns.set(rc={'figure.figsize':(11.7,8.27)})\n",
    "ax = sns.distplot(npvals, hist = False)\n",
    "plt.title(\"Distribution of User Clustering Coefficients\")\n",
    "plt.xlabel(\"User Clustering Coefficients\")\n"
   ]
  },
  {
   "cell_type": "markdown",
   "metadata": {},
   "source": [
    "## How does movie clustering tendency vary over the community?"
   ]
  },
  {
   "cell_type": "code",
   "execution_count": 40,
   "metadata": {},
   "outputs": [
    {
     "data": {
      "text/plain": [
       "Text(0.5, 0, 'Movie Clustering Coefficients')"
      ]
     },
     "execution_count": 40,
     "metadata": {},
     "output_type": "execute_result"
    },
    {
     "data": {
      "image/png": "[encoded data removed]",
      "text/plain": [
       "<Figure size 842.4x595.44 with 1 Axes>"
      ]
     },
     "metadata": {},
     "output_type": "display_data"
    }
   ],
   "source": [
    "import seaborn as sns\n",
    "import numpy as np\n",
    "npvals = np.fromiter(cm.values(), dtype=float)\n",
    "sns.set(rc={'figure.figsize':(11.7,8.27)})\n",
    "ax = sns.distplot(npvals, hist = False)\n",
    "plt.title(\"Distribution of Movie Clustering Coefficients\")\n",
    "plt.xlabel(\"Movie Clustering Coefficients\")"
   ]
  },
  {
   "cell_type": "code",
   "execution_count": 42,
   "metadata": {},
   "outputs": [
    {
     "data": {
      "text/plain": [
       "{'Users/65': 'Movies/47',\n",
       " 'Users/762': 'Movies/1662',\n",
       " 'Users/602': 'Movies/678',\n",
       " 'Users/632': 'Movies/188',\n",
       " 'Users/40': 'Movies/754',\n",
       " 'Users/480': 'Movies/190',\n",
       " 'Users/683': 'Movies/1483',\n",
       " 'Users/155': 'Movies/323',\n",
       " 'Users/428': 'Movies/307',\n",
       " 'Users/905': 'Movies/333',\n",
       " 'Users/778': 'Movies/94',\n",
       " 'Users/82': 'Movies/135',\n",
       " 'Users/911': 'Movies/357',\n",
       " 'Users/656': 'Movies/689',\n",
       " 'Users/708': 'Movies/1051',\n",
       " 'Users/104': 'Movies/1241',\n",
       " 'Users/150': 'Movies/293',\n",
       " 'Users/481': 'Movies/318',\n",
       " 'Users/75': 'Movies/284',\n",
       " 'Users/824': 'Movies/286',\n",
       " 'Users/578': 'Movies/1098',\n",
       " 'Users/898': 'Movies/288',\n",
       " 'Users/246': 'Movies/201',\n",
       " 'Users/680': 'Movies/20',\n",
       " 'Users/841': 'Movies/892',\n",
       " 'Users/350': 'Movies/174',\n",
       " 'Users/526': 'Movies/7',\n",
       " 'Users/53': 'Movies/281',\n",
       " 'Users/298': 'Movies/474',\n",
       " 'Users/346': 'Movies/213',\n",
       " 'Users/849': 'Movies/928',\n",
       " 'Users/146': 'Movies/1022',\n",
       " 'Users/743': 'Movies/224',\n",
       " 'Users/438': 'Movies/476',\n",
       " 'Users/273': 'Movies/900',\n",
       " 'Users/320': 'Movies/1157',\n",
       " 'Users/422': 'Movies/109',\n",
       " 'Users/796': 'Movies/1074',\n",
       " 'Users/485': 'Movies/289',\n",
       " 'Users/314': 'Movies/28',\n",
       " 'Users/869': 'Movies/412',\n",
       " 'Users/861': 'Movies/170',\n",
       " 'Users/76': 'Movies/61',\n",
       " 'Users/669': 'Movies/505',\n",
       " 'Users/213': 'Movies/273',\n",
       " 'Users/679': 'Movies/520',\n",
       " 'Users/910': 'Movies/182',\n",
       " 'Users/871': 'Movies/1385',\n",
       " 'Users/482': 'Movies/988',\n",
       " 'Users/919': 'Movies/1101',\n",
       " 'Users/96': 'Movies/156',\n",
       " 'Users/506': 'Movies/470',\n",
       " 'Users/235': 'Movies/185',\n",
       " 'Users/784': 'Movies/269',\n",
       " 'Users/116': 'Movies/350',\n",
       " 'Users/92': 'Movies/1049',\n",
       " 'Users/497': 'Movies/234',\n",
       " 'Users/603': 'Movies/21',\n",
       " 'Users/534': 'Movies/1047',\n",
       " 'Users/734': 'Movies/82',\n",
       " 'Users/252': 'Movies/277',\n",
       " 'Users/339': 'Movies/132',\n",
       " 'Users/6': 'Movies/86',\n",
       " 'Users/197': 'Movies/96',\n",
       " 'Users/918': 'Movies/488',\n",
       " 'Users/770': 'Movies/477',\n",
       " 'Users/855': 'Movies/283',\n",
       " 'Users/268': 'Movies/231',\n",
       " 'Users/279': 'Movies/154',\n",
       " 'Users/595': 'Movies/1264',\n",
       " 'Users/109': 'Movies/631',\n",
       " 'Users/43': 'Movies/14',\n",
       " 'Users/175': 'Movies/669',\n",
       " 'Users/204': 'Movies/216',\n",
       " 'Users/470': 'Movies/475',\n",
       " 'Users/827': 'Movies/329',\n",
       " 'Users/160': 'Movies/719',\n",
       " 'Users/427': 'Movies/938',\n",
       " 'Users/431': 'Movies/748',\n",
       " 'Users/621': 'Movies/404',\n",
       " 'Users/723': 'Movies/137',\n",
       " 'Users/144': 'Movies/89',\n",
       " 'Users/229': 'Movies/347',\n",
       " 'Users/581': 'Movies/1375',\n",
       " 'Users/730': 'Movies/298',\n",
       " 'Users/330': 'Movies/11',\n",
       " 'Users/360': 'Movies/933',\n",
       " 'Users/409': 'Movies/65',\n",
       " 'Users/322': 'Movies/197',\n",
       " 'Users/821': 'Movies/742',\n",
       " 'Users/510': 'Movies/330',\n",
       " 'Users/161': 'Movies/202',\n",
       " 'Users/444': 'Movies/916',\n",
       " 'Users/548': 'Movies/1405',\n",
       " 'Users/691': 'Movies/603',\n",
       " 'Users/189': 'Movies/512',\n",
       " 'Users/557': 'Movies/262',\n",
       " 'Users/740': 'Movies/319',\n",
       " 'Users/477': 'Movies/815',\n",
       " 'Users/819': 'Movies/1537',\n",
       " 'Users/637': 'Movies/1374',\n",
       " 'Users/500': 'Movies/111',\n",
       " 'Users/523': 'Movies/114',\n",
       " 'Users/16': 'Movies/944',\n",
       " 'Users/392': 'Movies/178',\n",
       " 'Users/259': 'Movies/959',\n",
       " 'Users/524': 'Movies/151',\n",
       " 'Users/858': 'Movies/331',\n",
       " 'Users/287': 'Movies/327',\n",
       " 'Users/405': 'Movies/56',\n",
       " 'Users/882': 'Movies/193',\n",
       " 'Users/390': 'Movies/990',\n",
       " 'Users/266': 'Movies/676',\n",
       " 'Users/456': 'Movies/175',\n",
       " 'Users/755': 'Movies/875',\n",
       " 'Users/831': 'Movies/877',\n",
       " 'Users/513': 'Movies/472',\n",
       " 'Users/897': 'Movies/1',\n",
       " 'Users/84': 'Movies/405',\n",
       " 'Users/112': 'Movies/903',\n",
       " 'Users/758': 'Movies/517',\n",
       " 'Users/208': 'Movies/663',\n",
       " 'Users/520': 'Movies/315',\n",
       " 'Users/365': 'Movies/1420',\n",
       " 'Users/636': 'Movies/222',\n",
       " 'Users/750': 'Movies/270',\n",
       " 'Users/687': 'Movies/336',\n",
       " 'Users/36': 'Movies/885',\n",
       " 'Users/773': 'Movies/169',\n",
       " 'Users/676': 'Movies/265',\n",
       " 'Users/834': 'Movies/744',\n",
       " 'Users/71': 'Movies/134',\n",
       " 'Users/74': 'Movies/1084',\n",
       " 'Users/58': 'Movies/960',\n",
       " 'Users/181': 'Movies/1081',\n",
       " 'Users/291': 'Movies/1042',\n",
       " 'Users/311': 'Movies/432',\n",
       " 'Users/325': 'Movies/485',\n",
       " 'Users/835': 'Movies/708',\n",
       " 'Users/349': 'Movies/411',\n",
       " 'Users/508': 'Movies/238',\n",
       " 'Users/63': 'Movies/1008',\n",
       " 'Users/546': 'Movies/413',\n",
       " 'Users/115': 'Movies/1067',\n",
       " 'Users/663': 'Movies/588',\n",
       " 'Users/169': 'Movies/429',\n",
       " 'Users/601': 'Movies/834',\n",
       " 'Users/192': 'Movies/1061',\n",
       " 'Users/576': 'Movies/9',\n",
       " 'Users/134': 'Movies/15',\n",
       " 'Users/639': 'Movies/88',\n",
       " 'Users/119': 'Movies/392',\n",
       " 'Users/612': 'Movies/926',\n",
       " 'Users/788': 'Movies/568',\n",
       " 'Users/47': 'Movies/995',\n",
       " 'Users/87': 'Movies/384',\n",
       " 'Users/267': 'Movies/518',\n",
       " 'Users/326': 'Movies/22',\n",
       " 'Users/799': 'Movies/479',\n",
       " 'Users/823': 'Movies/211',\n",
       " 'Users/374': 'Movies/126',\n",
       " 'Users/604': 'Movies/444',\n",
       " 'Users/596': 'Movies/123',\n",
       " 'Users/556': 'Movies/496',\n",
       " 'Users/48': 'Movies/609',\n",
       " 'Users/719': 'Movies/673',\n",
       " 'Users/439': 'Movies/125',\n",
       " 'Users/186': 'Movies/566',\n",
       " 'Users/124': 'Movies/616',\n",
       " 'Users/466': 'Movies/308',\n",
       " 'Users/33': 'Movies/872',\n",
       " 'Users/817': 'Movies/124',\n",
       " 'Users/397': 'Movies/1019',\n",
       " 'Users/120': 'Movies/546',\n",
       " 'Users/384': 'Movies/355',\n",
       " 'Users/705': 'Movies/1043',\n",
       " 'Users/752': 'Movies/300',\n",
       " 'Users/631': 'Movies/346',\n",
       " 'Users/499': 'Movies/511',\n",
       " 'Users/881': 'Movies/54',\n",
       " 'Users/338': 'Movies/494',\n",
       " 'Users/225': 'Movies/1443',\n",
       " 'Users/553': 'Movies/523',\n",
       " 'Users/836': 'Movies/165',\n",
       " 'Users/243': 'Movies/1466',\n",
       " 'Users/721': 'Movies/87',\n",
       " 'Users/8': 'Movies/338',\n",
       " 'Users/879': 'Movies/282',\n",
       " 'Users/432': 'Movies/844',\n",
       " 'Users/900': 'Movies/458',\n",
       " 'Users/170': 'Movies/749',\n",
       " 'Users/393': 'Movies/1219',\n",
       " 'Users/302': 'Movies/303',\n",
       " 'Users/465': 'Movies/198',\n",
       " 'Users/592': 'Movies/418',\n",
       " 'Users/630': 'Movies/934',\n",
       " 'Users/486': 'Movies/846',\n",
       " 'Users/62': 'Movies/257',\n",
       " 'Users/130': 'Movies/379',\n",
       " 'Users/541': 'Movies/756',\n",
       " 'Users/21': 'Movies/558',\n",
       " 'Users/90': 'Movies/382',\n",
       " 'Users/371': 'Movies/77',\n",
       " 'Users/865': 'Movies/1028',\n",
       " 'Users/292': 'Movies/653',\n",
       " 'Users/782': 'Movies/1216',\n",
       " 'Users/239': 'Movies/1099',\n",
       " 'Users/99': 'Movies/4',\n",
       " 'Users/97': 'Movies/194',\n",
       " 'Users/162': 'Movies/25',\n",
       " 'Users/902': 'Movies/258',\n",
       " 'Users/623': 'Movies/275',\n",
       " 'Users/174': 'Movies/368',\n",
       " 'Users/357': 'Movies/833',\n",
       " 'Users/232': 'Movies/483',\n",
       " 'Users/147': 'Movies/904',\n",
       " 'Users/774': 'Movies/1419',\n",
       " 'Users/634': 'Movies/977',\n",
       " 'Users/156': 'Movies/661',\n",
       " 'Users/305': 'Movies/451',\n",
       " 'Users/382': 'Movies/531',\n",
       " 'Users/100': 'Movies/1236',\n",
       " 'Users/276': 'Movies/796',\n",
       " 'Users/558': 'Movies/116',\n",
       " 'Users/838': 'Movies/173',\n",
       " 'Users/729': 'Movies/683',\n",
       " 'Users/674': 'Movies/929',\n",
       " 'Users/421': 'Movies/915',\n",
       " 'Users/153': 'Movies/64',\n",
       " 'Users/554': 'Movies/8',\n",
       " 'Users/574': 'Movies/1313',\n",
       " 'Users/736': 'Movies/1388',\n",
       " 'Users/629': 'Movies/58',\n",
       " 'Users/25': 'Movies/501',\n",
       " 'Users/290': 'Movies/143',\n",
       " 'Users/633': 'Movies/1132',\n",
       " 'Users/14': 'Movies/98',\n",
       " 'Users/712': 'Movies/747',\n",
       " 'Users/386': 'Movies/455',\n",
       " 'Users/594': 'Movies/237',\n",
       " 'Users/98': 'Movies/163',\n",
       " 'Users/904': 'Movies/97',\n",
       " 'Users/672': 'Movies/864',\n",
       " 'Users/429': 'Movies/73',\n",
       " 'Users/364': 'Movies/1048',\n",
       " 'Users/540': 'Movies/741',\n",
       " 'Users/296': 'Movies/705',\n",
       " 'Users/131': 'Movies/221',\n",
       " 'Users/348': 'Movies/975',\n",
       " 'Users/710': 'Movies/627',\n",
       " 'Users/754': 'Movies/619',\n",
       " 'Users/847': 'Movies/290',\n",
       " 'Users/78': 'Movies/1160',\n",
       " 'Users/240': 'Movies/353',\n",
       " 'Users/747': 'Movies/228',\n",
       " 'Users/29': 'Movies/189',\n",
       " 'Users/614': 'Movies/287',\n",
       " 'Users/41': 'Movies/31',\n",
       " 'Users/876': 'Movies/48',\n",
       " 'Users/32': 'Movies/1012',\n",
       " 'Users/203': 'Movies/471',\n",
       " 'Users/715': 'Movies/739',\n",
       " 'Users/196': 'Movies/393',\n",
       " 'Users/255': 'Movies/1034',\n",
       " 'Users/152': 'Movies/162',\n",
       " 'Users/294': 'Movies/1199',\n",
       " 'Users/274': 'Movies/845',\n",
       " 'Users/587': 'Movies/881',\n",
       " 'Users/272': 'Movies/1393',\n",
       " 'Users/154': 'Movies/484',\n",
       " 'Users/300': 'Movies/948',\n",
       " 'Users/678': 'Movies/924',\n",
       " 'Users/331': 'Movies/486',\n",
       " 'Users/887': 'Movies/931',\n",
       " 'Users/572': 'Movies/1010',\n",
       " 'Users/583': 'Movies/83',\n",
       " 'Users/437': 'Movies/1121',\n",
       " 'Users/804': 'Movies/204',\n",
       " 'Users/810': 'Movies/326',\n",
       " 'Users/141': 'Movies/826',\n",
       " 'Users/223': 'Movies/274',\n",
       " 'Users/434': 'Movies/1060',\n",
       " 'Users/697': 'Movies/713',\n",
       " 'Users/749': 'Movies/2',\n",
       " 'Users/512': 'Movies/23',\n",
       " 'Users/114': 'Movies/1104',\n",
       " 'Users/475': 'Movies/316',\n",
       " 'Users/505': 'Movies/140',\n",
       " 'Users/228': 'Movies/886',\n",
       " 'Users/598': 'Movies/349',\n",
       " 'Users/794': 'Movies/557',\n",
       " 'Users/593': 'Movies/633',\n",
       " 'Users/653': 'Movies/164',\n",
       " 'Users/289': 'Movies/849',\n",
       " 'Users/126': 'Movies/884',\n",
       " 'Users/408': 'Movies/539',\n",
       " 'Users/738': 'Movies/651',\n",
       " 'Users/394': 'Movies/67',\n",
       " 'Users/471': 'Movies/95',\n",
       " 'Users/86': 'Movies/889',\n",
       " 'Users/677': 'Movies/148',\n",
       " 'Users/484': 'Movies/235',\n",
       " 'Users/846': 'Movies/57',\n",
       " 'Users/424': 'Movies/1346',\n",
       " 'Users/912': 'Movies/1041',\n",
       " 'Users/675': 'Movies/1653',\n",
       " 'Users/136': 'Movies/276',\n",
       " 'Users/248': 'Movies/589',\n",
       " 'Users/889': 'Movies/72',\n",
       " 'Users/26': 'Movies/930',\n",
       " 'Users/391': 'Movies/527',\n",
       " 'Users/447': 'Movies/121',\n",
       " 'Users/159': 'Movies/1037',\n",
       " 'Users/660': 'Movies/167',\n",
       " 'Users/149': 'Movies/1295',\n",
       " 'Users/700': 'Movies/79',\n",
       " 'Users/895': 'Movies/597',\n",
       " 'Users/742': 'Movies/508',\n",
       " 'Users/760': 'Movies/183',\n",
       " 'Users/31': 'Movies/682',\n",
       " 'Users/806': 'Movies/629',\n",
       " 'Users/24': 'Movies/727',\n",
       " 'Users/458': 'Movies/648',\n",
       " 'Users/11': 'Movies/732',\n",
       " 'Users/184': 'Movies/218',\n",
       " 'Users/538': 'Movies/963',\n",
       " 'Users/883': 'Movies/792',\n",
       " 'Users/378': 'Movies/554',\n",
       " 'Users/121': 'Movies/514',\n",
       " 'Users/201': 'Movies/979',\n",
       " 'Users/403': 'Movies/925',\n",
       " 'Users/442': 'Movies/401',\n",
       " 'Users/366': 'Movies/853',\n",
       " 'Users/585': 'Movies/1488',\n",
       " 'Users/848': 'Movies/1126',\n",
       " 'Users/340': 'Movies/172',\n",
       " 'Users/414': 'Movies/264',\n",
       " 'Users/735': 'Movies/813',\n",
       " 'Users/872': 'Movies/932',\n",
       " 'Users/833': 'Movies/160',\n",
       " 'Users/52': 'Movies/280',\n",
       " 'Users/4': 'Movies/361',\n",
       " 'Users/271': 'Movies/199',\n",
       " 'Users/358': 'Movies/469',\n",
       " 'Users/492': 'Movies/1021',\n",
       " 'Users/515': 'Movies/1430',\n",
       " 'Users/696': 'Movies/1176',\n",
       " 'Users/455': 'Movies/755',\n",
       " 'Users/398': 'Movies/227',\n",
       " 'Users/19': 'Movies/435',\n",
       " 'Users/698': 'Movies/1063',\n",
       " 'Users/716': 'Movies/91',\n",
       " 'Users/217': 'Movies/27',\n",
       " 'Users/536': 'Movies/230',\n",
       " 'Users/441': 'Movies/259',\n",
       " 'Users/448': 'Movies/1294',\n",
       " 'Users/435': 'Movies/780',\n",
       " 'Users/230': 'Movies/680',\n",
       " 'Users/689': 'Movies/250',\n",
       " 'Users/645': 'Movies/69',\n",
       " 'Users/646': 'Movies/304',\n",
       " 'Users/324': 'Movies/1033',\n",
       " 'Users/210': 'Movies/40',\n",
       " 'Users/51': 'Movies/679',\n",
       " 'Users/790': 'Movies/380',\n",
       " 'Users/111': 'Movies/1024',\n",
       " 'Users/265': 'Movies/279',\n",
       " 'Users/511': 'Movies/908',\n",
       " 'Users/502': 'Movies/890',\n",
       " 'Users/763': 'Movies/200',\n",
       " 'Users/643': 'Movies/419',\n",
       " 'Users/906': 'Movies/100',\n",
       " 'Users/529': 'Movies/873',\n",
       " 'Users/214': 'Movies/478',\n",
       " 'Users/222': 'Movies/366',\n",
       " 'Users/202': 'Movies/604',\n",
       " 'Users/433': 'Movies/657',\n",
       " 'Users/903': 'Movies/994',\n",
       " 'Users/671': 'Movies/947',\n",
       " 'Users/726': 'Movies/819',\n",
       " 'Users/446': 'Movies/883',\n",
       " 'Users/282': 'Movies/343',\n",
       " 'Users/42': 'Movies/423',\n",
       " 'Users/864': 'Movies/71',\n",
       " 'Users/779': 'Movies/243',\n",
       " 'Users/789': 'Movies/93',\n",
       " 'Users/874': 'Movies/306',\n",
       " 'Users/451': 'Movies/1392',\n",
       " 'Users/395': 'Movies/632',\n",
       " 'Users/388': 'Movies/816',\n",
       " 'Users/39': 'Movies/352',\n",
       " 'Users/143': 'Movies/1038',\n",
       " 'Users/772': 'Movies/312',\n",
       " 'Users/457': 'Movies/704',\n",
       " 'Users/493': 'Movies/762',\n",
       " 'Users/238': 'Movies/252',\n",
       " 'Users/565': 'Movies/52',\n",
       " 'Users/317': 'Movies/351',\n",
       " 'Users/163': 'Movies/433',\n",
       " 'Users/771': 'Movies/203',\n",
       " 'Users/586': 'Movies/665',\n",
       " 'Users/659': 'Movies/66',\n",
       " 'Users/845': 'Movies/1592',\n",
       " 'Users/59': 'Movies/196',\n",
       " 'Users/665': 'Movies/177',\n",
       " 'Users/328': 'Movies/519',\n",
       " 'Users/362': 'Movies/1025',\n",
       " 'Users/714': 'Movies/871',\n",
       " 'Users/64': 'Movies/381',\n",
       " 'Users/868': 'Movies/1031',\n",
       " 'Users/620': 'Movies/565',\n",
       " 'Users/559': 'Movies/524',\n",
       " 'Users/404': 'Movies/687',\n",
       " 'Users/718': 'Movies/841',\n",
       " 'Users/913': 'Movies/99',\n",
       " 'Users/616': 'Movies/750',\n",
       " 'Users/20': 'Movies/208',\n",
       " 'Users/842': 'Movies/362',\n",
       " 'Users/530': 'Movies/535',\n",
       " 'Users/440': 'Movies/1073',\n",
       " 'Users/507': 'Movies/147',\n",
       " 'Users/367': 'Movies/246',\n",
       " 'Users/256': 'Movies/452',\n",
       " 'Users/829': 'Movies/278',\n",
       " 'Users/469': 'Movies/513',\n",
       " 'Users/571': 'Movies/964',\n",
       " 'Users/215': 'Movies/212',\n",
       " 'Users/137': 'Movies/55',\n",
       " 'Users/117': 'Movies/150',\n",
       " 'Users/517': 'Movies/761',\n",
       " 'Users/590': 'Movies/130',\n",
       " 'Users/73': 'Movies/480',\n",
       " 'Users/638': 'Movies/410',\n",
       " 'Users/468': 'Movies/461',\n",
       " 'Users/767': 'Movies/1068',\n",
       " 'Users/157': 'Movies/407',\n",
       " 'Users/308': 'Movies/649',\n",
       " 'Users/490': 'Movies/993',\n",
       " 'Users/756': 'Movies/63',\n",
       " 'Users/688': 'Movies/1234',\n",
       " 'Users/79': 'Movies/1161',\n",
       " 'Users/260': 'Movies/1105',\n",
       " 'Users/245': 'Movies/112',\n",
       " 'Users/461': 'Movies/1006',\n",
       " 'Users/622': 'Movies/797',\n",
       " 'Users/396': 'Movies/291',\n",
       " 'Users/528': 'Movies/239',\n",
       " 'Users/739': 'Movies/359',\n",
       " 'Users/866': 'Movies/321',\n",
       " 'Users/597': 'Movies/824',\n",
       " 'Users/110': 'Movies/688',\n",
       " 'Users/724': 'Movies/266',\n",
       " 'Users/49': 'Movies/559',\n",
       " 'Users/66': 'Movies/249',\n",
       " 'Users/70': 'Movies/746',\n",
       " 'Users/417': 'Movies/3',\n",
       " 'Users/423': 'Movies/1238',\n",
       " 'Users/370': 'Movies/42',\n",
       " 'Users/57': 'Movies/760',\n",
       " 'Users/635': 'Movies/13',\n",
       " 'Users/419': 'Movies/1451',\n",
       " 'Users/575': 'Movies/215',\n",
       " 'Users/385': 'Movies/1367',\n",
       " 'Users/478': 'Movies/122',\n",
       " 'Users/837': 'Movies/220',\n",
       " 'Users/857': 'Movies/898',\n",
       " 'Users/901': 'Movies/509',\n",
       " 'Users/354': 'Movies/462',\n",
       " 'Users/839': 'Movies/1664',\n",
       " 'Users/560': 'Movies/108',\n",
       " 'Users/476': 'Movies/715',\n",
       " 'Users/148': 'Movies/408',\n",
       " 'Users/30': 'Movies/1007',\n",
       " 'Users/207': 'Movies/591',\n",
       " 'Users/426': 'Movies/493',\n",
       " 'Users/233': 'Movies/375',\n",
       " 'Users/561': 'Movies/51',\n",
       " 'Users/609': 'Movies/901',\n",
       " 'Users/650': 'Movies/630',\n",
       " 'Users/618': 'Movies/697',\n",
       " 'Users/703': 'Movies/596',\n",
       " 'Users/666': 'Movies/223',\n",
       " 'Users/445': 'Movies/195',\n",
       " 'Users/381': 'Movies/582',\n",
       " 'Users/570': 'Movies/245',\n",
       " 'Users/122': 'Movies/387',\n",
       " 'Users/695': 'Movies/991',\n",
       " 'Users/891': 'Movies/117',\n",
       " 'Users/410': 'Movies/354',\n",
       " 'Users/495': 'Movies/139',\n",
       " 'Users/459': 'Movies/978',\n",
       " 'Users/543': 'Movies/210',\n",
       " 'Users/425': 'Movies/424',\n",
       " 'Users/682': 'Movies/735',\n",
       " 'Users/702': 'Movies/1127',\n",
       " 'Users/242': 'Movies/1137',\n",
       " 'Users/164': 'Movies/406',\n",
       " 'Users/921': 'Movies/24',\n",
       " 'Users/692': 'Movies/1023',\n",
       " 'Users/766': 'Movies/487',\n",
       " 'Users/280': 'Movies/540',\n",
       " 'Users/253': 'Movies/465',\n",
       " 'Users/494': 'Movies/107',\n",
       " 'Users/591': 'Movies/787',\n",
       " 'Users/681': 'Movies/690',\n",
       " 'Users/516': 'Movies/902',\n",
       " 'Users/711': 'Movies/421',\n",
       " 'Users/179': 'Movies/917',\n",
       " 'Users/479': 'Movies/168',\n",
       " 'Users/531': 'Movies/457',\n",
       " 'Users/185': 'Movies/740',\n",
       " 'Users/327': 'Movies/533',\n",
       " 'Users/815': 'Movies/386',\n",
       " 'Users/765': 'Movies/248',\n",
       " 'Users/307': 'Movies/634',\n",
       " 'Users/369': 'Movies/166',\n",
       " 'Users/733': 'Movies/10',\n",
       " 'Users/416': 'Movies/578',\n",
       " 'Users/355': 'Movies/360',\n",
       " 'Users/661': 'Movies/131',\n",
       " 'Users/863': 'Movies/1062',\n",
       " 'Users/67': 'Movies/1095',\n",
       " 'Users/673': 'Movies/294',\n",
       " 'Users/811': 'Movies/301',\n",
       " 'Users/818': 'Movies/912',\n",
       " 'Users/667': 'Movies/186',\n",
       " 'Users/200': 'Movies/365',\n",
       " 'Users/886': 'Movies/68',\n",
       " 'Users/106': 'Movies/526',\n",
       " 'Users/61': 'Movies/342',\n",
       " 'Users/599': 'Movies/1152',\n",
       " 'Users/193': 'Movies/869',\n",
       " 'Users/105': 'Movies/752',\n",
       " 'Users/809': 'Movies/272',\n",
       " 'Users/333': 'Movies/894',\n",
       " 'Users/745': 'Movies/492',\n",
       " 'Users/3': 'Movies/320',\n",
       " 'Users/133': 'Movies/751',\n",
       " 'Users/323': 'Movies/1017',\n",
       " 'Users/525': 'Movies/829',\n",
       " 'Users/655': 'Movies/693',\n",
       " 'Users/375': 'Movies/44',\n",
       " 'Users/383': 'Movies/464',\n",
       " 'Users/488': 'Movies/510',\n",
       " 'Users/830': 'Movies/385',\n",
       " 'Users/843': 'Movies/615',\n",
       " 'Users/584': 'Movies/229',\n",
       " 'Users/411': 'Movies/209',\n",
       " 'Users/704': 'Movies/205',\n",
       " 'Users/798': 'Movies/998',\n",
       " 'Users/801': 'Movies/895',\n",
       " 'Users/38': 'Movies/153',\n",
       " 'Users/209': 'Movies/766',\n",
       " 'Users/7': 'Movies/32',\n",
       " 'Users/668': 'Movies/345',\n",
       " 'Users/853': 'Movies/302',\n",
       " 'Users/343': 'Movies/1107',\n",
       " 'Users/151': 'Movies/176',\n",
       " 'Users/187': 'Movies/70',\n",
       " 'Users/746': 'Movies/128',\n",
       " 'Users/514': 'Movies/402',\n",
       " 'Users/10': 'Movies/16',\n",
       " 'Users/552': 'Movies/225',\n",
       " 'Users/472': 'Movies/449',\n",
       " 'Users/5': 'Movies/17',\n",
       " 'Users/221': 'Movies/943',\n",
       " 'Users/352': 'Movies/692',\n",
       " 'Users/89': 'Movies/936',\n",
       " 'Users/684': 'Movies/38',\n",
       " 'Users/545': 'Movies/399',\n",
       " 'Users/812': 'Movies/358',\n",
       " 'Users/627': 'Movies/26',\n",
       " 'Users/69': 'Movies/256',\n",
       " 'Users/549': 'Movies/866',\n",
       " 'Users/611': 'Movies/896',\n",
       " 'Users/263': 'Movies/416',\n",
       " 'Users/1': 'Movies/33',\n",
       " 'Users/764': 'Movies/1221',\n",
       " 'Users/313': 'Movies/436',\n",
       " 'Users/717': 'Movies/980',\n",
       " 'Users/168': 'Movies/1278',\n",
       " 'Users/270': 'Movies/778',\n",
       " 'Users/77': 'Movies/498',\n",
       " 'Users/336': 'Movies/577',\n",
       " 'Users/577': 'Movies/996',\n",
       " 'Users/321': 'Movies/207',\n",
       " 'Users/453': 'Movies/1032',\n",
       " 'Users/707': 'Movies/716',\n",
       " 'Users/567': 'Movies/636',\n",
       " 'Users/713': 'Movies/1656',\n",
       " 'Users/862': 'Movies/1011',\n",
       " 'Users/72': 'Movies/1110',\n",
       " 'Users/285': 'Movies/191',\n",
       " 'Users/781': 'Movies/180',\n",
       " 'Users/854': 'Movies/499',\n",
       " 'Users/195': 'Movies/1052',\n",
       " 'Users/306': 'Movies/1009',\n",
       " 'Users/464': 'Movies/482',\n",
       " 'Users/580': 'Movies/825',\n",
       " 'Users/826': 'Movies/1239',\n",
       " 'Users/877': 'Movies/949',\n",
       " 'Users/347': 'Movies/1035',\n",
       " 'Users/607': 'Movies/529',\n",
       " 'Users/412': 'Movies/427',\n",
       " 'Users/257': 'Movies/1260',\n",
       " 'Users/212': 'Movies/179',\n",
       " 'Users/220': 'Movies/325',\n",
       " 'Users/103': 'Movies/1089',\n",
       " 'Users/539': 'Movies/19',\n",
       " 'Users/503': 'Movies/1316',\n",
       " 'Users/216': 'Movies/658',\n",
       " 'Users/892': 'Movies/441',\n",
       " 'Users/722': 'Movies/118',\n",
       " 'Users/751': 'Movies/1661',\n",
       " 'Users/496': 'Movies/142',\n",
       " 'Users/301': 'Movies/790',\n",
       " 'Users/363': 'Movies/391',\n",
       " 'Users/315': 'Movies/431',\n",
       " 'Users/269': 'Movies/504',\n",
       " 'Users/579': 'Movies/528',\n",
       " 'Users/309': 'Movies/1296',\n",
       " 'Users/605': 'Movies/601',\n",
       " 'Users/15': 'Movies/473',\n",
       " 'Users/373': 'Movies/598',\n",
       " 'Users/249': 'Movies/241',\n",
       " 'Users/785': 'Movies/1050',\n",
       " 'Users/642': 'Movies/1039',\n",
       " 'Users/657': 'Movies/922',\n",
       " 'Users/670': 'Movies/945',\n",
       " 'Users/361': 'Movies/652',\n",
       " 'Users/840': 'Movies/152',\n",
       " 'Users/873': 'Movies/292',\n",
       " 'Users/658': 'Movies/772',\n",
       " 'Users/450': 'Movies/783',\n",
       " 'Users/610': 'Movies/1558',\n",
       " 'Users/769': 'Movies/831',\n",
       " 'Users/600': 'Movies/92',\n",
       " 'Users/690': 'Movies/364',\n",
       " 'Users/467': 'Movies/240',\n",
       " 'Users/652': 'Movies/699',\n",
       " 'Users/859': 'Movies/1014',\n",
       " 'Users/12': 'Movies/157',\n",
       " 'Users/867': 'Movies/660',\n",
       " 'Users/731': 'Movies/378',\n",
       " 'Users/563': 'Movies/233',\n",
       " 'Users/341': 'Movies/1527',\n",
       " 'Users/550': 'Movies/254',\n",
       " 'Users/295': 'Movies/961',\n",
       " 'Users/825': 'Movies/369',\n",
       " 'Users/44': 'Movies/120',\n",
       " 'Users/359': 'Movies/295',\n",
       " 'Users/454': 'Movies/161',\n",
       " 'Users/418': 'Movies/899',\n",
       " 'Users/647': 'Movies/490',\n",
       " 'Users/793': 'Movies/1142',\n",
       " 'Users/183': 'Movies/562',\n",
       " 'Users/436': 'Movies/454',\n",
       " 'Users/218': 'Movies/430',\n",
       " 'Users/173': 'Movies/1265',\n",
       " 'Users/18': 'Movies/950',\n",
       " 'Users/182': 'Movies/763',\n",
       " 'Users/537': 'Movies/46',\n",
       " 'Users/686': 'Movies/425',\n",
       " 'Users/463': 'Movies/593',\n",
       " 'Users/83': 'Movies/623',\n",
       " 'Users/890': 'Movies/843',\n",
       " 'Users/776': 'Movies/422',\n",
       " 'Users/68': 'Movies/409',\n",
       " 'Users/128': 'Movies/371',\n",
       " 'Users/158': 'Movies/729',\n",
       " 'Users/619': 'Movies/39',\n",
       " 'Users/332': 'Movies/770',\n",
       " 'Users/177': 'Movies/878',\n",
       " 'Users/573': 'Movies/192',\n",
       " 'Users/142': 'Movies/463',\n",
       " 'Users/509': 'Movies/50',\n",
       " 'Users/851': 'Movies/1245',\n",
       " 'Users/860': 'Movies/159',\n",
       " 'Users/28': 'Movies/217',\n",
       " 'Users/102': 'Movies/768',\n",
       " 'Users/368': 'Movies/637',\n",
       " 'Users/50': 'Movies/823',\n",
       " 'Users/27': 'Movies/370',\n",
       " 'Users/379': 'Movies/90',\n",
       " 'Users/878': 'Movies/642',\n",
       " 'Users/792': 'Movies/595',\n",
       " 'Users/224': 'Movies/29',\n",
       " 'Users/617': 'Movies/860',\n",
       " 'Users/275': 'Movies/1066',\n",
       " 'Users/345': 'Movies/722',\n",
       " 'Users/241': 'Movies/880',\n",
       " 'Users/759': 'Movies/1016',\n",
       " 'Users/55': 'Movies/144',\n",
       " 'Users/251': 'Movies/612',\n",
       " 'Users/884': 'Movies/1214',\n",
       " 'Users/167': 'Movies/232',\n",
       " 'Users/777': 'Movies/521',\n",
       " 'Users/231': 'Movies/181',\n",
       " 'Users/501': 'Movies/1534',\n",
       " 'Users/816': 'Movies/309',\n",
       " 'Users/850': 'Movies/969',\n",
       " 'Users/780': 'Movies/662',\n",
       " 'Users/138': 'Movies/617',\n",
       " 'Users/613': 'Movies/607',\n",
       " 'Users/449': 'Movies/971',\n",
       " 'Users/828': 'Movies/1646',\n",
       " 'Users/376': 'Movies/707',\n",
       " 'Users/908': 'Movies/414',\n",
       " 'Users/132': 'Movies/12',\n",
       " 'Users/407': 'Movies/785',\n",
       " 'Users/353': 'Movies/905',\n",
       " 'Users/808': 'Movies/271',\n",
       " 'Users/80': 'Movies/466',\n",
       " 'Users/310': 'Movies/536',\n",
       " 'Users/624': 'Movies/952',\n",
       " 'Users/640': 'Movies/53',\n",
       " 'Users/297': 'Movies/133',\n",
       " 'Users/56': 'Movies/447',\n",
       " 'Users/498': 'Movies/187',\n",
       " 'Users/46': 'Movies/909',\n",
       " 'Users/95': 'Movies/625',\n",
       " 'Users/17': 'Movies/919',\n",
       " 'Users/791': 'Movies/299',\n",
       " 'Users/206': 'Movies/1394',\n",
       " 'Users/547': 'Movies/311',\n",
       " 'Users/344': 'Movies/1283',\n",
       " 'Users/916': 'Movies/467',\n",
       " 'Users/234': 'Movies/1184',\n",
       " 'Users/589': 'Movies/313',\n",
       " 'Users/2': 'Movies/251',\n",
       " 'Users/176': 'Movies/927',\n",
       " 'Users/284': 'Movies/305',\n",
       " 'Users/399': 'Movies/219',\n",
       " 'Users/334': 'Movies/635',\n",
       " 'Users/487': 'Movies/1044',\n",
       " 'Users/443': 'Movies/644',\n",
       " 'Users/211': 'Movies/263',\n",
       " 'Users/281': 'Movies/989',\n",
       " 'Users/699': 'Movies/456',\n",
       " 'Users/190': 'Movies/974',\n",
       " 'Users/693': 'Movies/1522',\n",
       " 'Users/227': 'Movies/244',\n",
       " 'Users/139': 'Movies/296',\n",
       " 'Users/277': 'Movies/129',\n",
       " 'Users/844': 'Movies/403',\n",
       " 'Users/356': 'Movies/937',\n",
       " 'Users/401': 'Movies/638',\n",
       " 'Users/337': 'Movies/106',\n",
       " 'Users/875': 'Movies/923',\n",
       " 'Users/264': 'Movies/721',\n",
       " 'Users/145': 'Movies/737',\n",
       " 'Users/654': 'Movies/821',\n",
       " 'Users/568': 'Movies/606',\n",
       " 'Users/278': 'Movies/525',\n",
       " 'Users/786': 'Movies/709',\n",
       " 'Users/805': 'Movies/576',\n",
       " 'Users/318': 'Movies/356',\n",
       " 'Users/129': 'Movies/339',\n",
       " 'Users/377': 'Movies/443',\n",
       " 'Users/236': 'Movies/506',\n",
       " 'Users/460': 'Movies/532',\n",
       " 'Users/542': 'Movies/206',\n",
       " 'Users/820': 'Movies/538',\n",
       " 'Users/452': 'Movies/1109',\n",
       " 'Users/518': 'Movies/547',\n",
       " 'Users/286': 'Movies/171',\n",
       " 'Users/527': 'Movies/956',\n",
       " 'Users/123': 'Movies/847',\n",
       " 'Users/113': 'Movies/976',\n",
       " 'Users/802': 'Movies/445',\n",
       " 'Users/93': 'Movies/820',\n",
       " 'Users/35': 'Movies/261',\n",
       " 'Users/783': 'Movies/334',\n",
       " 'Users/880': 'Movies/398',\n",
       " 'Users/787': 'Movies/348',\n",
       " 'Users/521': 'Movies/81',\n",
       " 'Users/247': 'Movies/736',\n",
       " 'Users/45': 'Movies/1059',\n",
       " 'Users/885': 'Movies/1311',\n",
       " 'Users/803': 'Movies/887',\n",
       " 'Users/9': 'Movies/691',\n",
       " 'Users/894': 'Movies/888',\n",
       " 'Users/304': 'Movies/681',\n",
       " 'Users/372': 'Movies/672',\n",
       " 'Users/261': 'Movies/1237',\n",
       " 'Users/380': 'Movies/530',\n",
       " 'Users/462': 'Movies/136',\n",
       " 'Users/555': 'Movies/1054',\n",
       " 'Users/662': 'Movies/6',\n",
       " 'Users/569': 'Movies/236',\n",
       " 'Users/564': 'Movies/1399',\n",
       " 'Users/732': 'Movies/882',\n",
       " 'Users/127': 'Movies/450',\n",
       " 'Users/283': 'Movies/1114',\n",
       " 'Users/101': 'Movies/840',\n",
       " 'Users/582': 'Movies/1215',\n",
       " 'Users/727': 'Movies/105',\n",
       " 'Users/188': 'Movies/769',\n",
       " 'Users/737': 'Movies/428',\n",
       " 'Users/389': 'Movies/955',\n",
       " 'Users/140': 'Movies/332',\n",
       " 'Users/709': 'Movies/564',\n",
       " 'Users/641': 'Movies/59',\n",
       " 'Users/107': 'Movies/340',\n",
       " 'Users/125': 'Movies/80',\n",
       " 'Users/706': 'Movies/628',\n",
       " 'Users/648': 'Movies/674',\n",
       " 'Users/753': 'Movies/515',\n",
       " 'Users/387': 'Movies/1166',\n",
       " 'Users/329': 'Movies/855',\n",
       " 'Users/312': 'Movies/573',\n",
       " 'Users/489': 'Movies/1293',\n",
       " 'Users/626': 'Movies/324',\n",
       " 'Users/178': 'Movies/731',\n",
       " 'Users/728': 'Movies/285',\n",
       " 'Users/219': 'Movies/935',\n",
       " 'Users/483': 'Movies/743',\n",
       " 'Users/720': 'Movies/906',\n",
       " 'Users/108': 'Movies/718',\n",
       " 'Users/870': 'Movies/481',\n",
       " 'Users/34': 'Movies/242',\n",
       " 'Users/293': 'Movies/5',\n",
       " 'Users/588': 'Movies/1508',\n",
       " 'Users/644': 'Movies/1610',\n",
       " 'Users/171': 'Movies/344',\n",
       " 'Users/400': 'Movies/328',\n",
       " 'Users/88': 'Movies/1191',\n",
       " 'Users/191': 'Movies/891',\n",
       " 'Users/316': 'Movies/549',\n",
       " 'Users/342': 'Movies/764',\n",
       " 'Users/651': 'Movies/268',\n",
       " 'Users/685': 'Movies/337',\n",
       " 'Users/797': 'Movies/781',\n",
       " 'Users/914': 'Movies/724',\n",
       " 'Users/135': 'Movies/1046',\n",
       " 'Users/415': 'Movies/1524',\n",
       " 'Users/198': 'Movies/214',\n",
       " 'Users/899': 'Movies/694',\n",
       " 'Users/491': 'Movies/45',\n",
       " 'Users/244': 'Movies/550',\n",
       " 'Users/303': 'Movies/842',\n",
       " 'Users/254': 'Movies/1444',\n",
       " 'Users/335': 'Movies/260',\n",
       " 'Users/413': 'Movies/297',\n",
       " 'Users/13': 'Movies/836',\n",
       " 'Users/94': 'Movies/789',\n",
       " 'Users/795': 'Movies/367',\n",
       " 'Users/23': 'Movies/516',\n",
       " 'Users/519': 'Movies/1617',\n",
       " 'Users/532': 'Movies/655',\n",
       " 'Users/664': 'Movies/659',\n",
       " 'Users/748': 'Movies/710',\n",
       " 'Users/402': 'Movies/696',\n",
       " 'Users/85': 'Movies/507',\n",
       " 'Users/757': 'Movies/569',\n",
       " 'Users/856': 'Movies/879',\n",
       " 'Users/118': 'Movies/774',\n",
       " 'Users/800': 'Movies/127',\n",
       " 'Users/172': 'Movies/580',\n",
       " 'Users/775': 'Movies/310',\n",
       " 'Users/551': 'Movies/684',\n",
       " 'Users/896': 'Movies/686',\n",
       " 'Users/299': 'Movies/1018',\n",
       " 'Users/473': 'Movies/1129',\n",
       " 'Users/237': 'Movies/1192',\n",
       " 'Users/761': 'Movies/1277',\n",
       " 'Users/562': 'Movies/720',\n",
       " 'Users/822': 'Movies/1091',\n",
       " 'Users/250': 'Movies/184',\n",
       " 'Users/474': 'Movies/602',\n",
       " 'Users/54': 'Movies/827',\n",
       " 'Users/807': 'Movies/622',\n",
       " 'Users/608': 'Movies/1172',\n",
       " 'Users/37': 'Movies/363',\n",
       " 'Users/606': 'Movies/620',\n",
       " 'Users/420': 'Movies/753',\n",
       " 'Users/628': 'Movies/874',\n",
       " 'Users/907': 'Movies/1057',\n",
       " 'Users/522': 'Movies/654',\n",
       " 'Users/288': 'Movies/317',\n",
       " 'Users/544': 'Movies/1280',\n",
       " 'Users/91': 'Movies/618',\n",
       " 'Users/205': 'Movies/984',\n",
       " 'Users/194': 'Movies/1211',\n",
       " 'Users/768': 'Movies/966',\n",
       " 'Users/199': 'Movies/1326',\n",
       " 'Users/625': 'Movies/584',\n",
       " 'Users/741': 'Movies/1029',\n",
       " 'Users/814': 'Movies/656',\n",
       " 'Users/430': 'Movies/253',\n",
       " 'Users/694': 'Movies/610',\n",
       " 'Users/744': 'Movies/1134',\n",
       " 'Users/262': 'Movies/1147',\n",
       " 'Users/893': 'Movies/426',\n",
       " 'Users/180': 'Movies/1119',\n",
       " 'Users/852': 'Movies/685',\n",
       " 'Users/533': 'Movies/1177',\n",
       " 'Users/81': 'Movies/544',\n",
       " 'Users/406': 'Movies/664',\n",
       " 'Users/60': 'Movies/60',\n",
       " 'Users/566': 'Movies/395',\n",
       " 'Users/165': 'Movies/372',\n",
       " 'Users/832': 'Movies/876',\n",
       " 'Users/649': 'Movies/1244',\n",
       " 'Users/615': 'Movies/640',\n",
       " 'Users/226': 'Movies/1117',\n",
       " 'Users/319': 'Movies/267',\n",
       " 'Users/701': 'Movies/255',\n",
       " 'Users/166': 'Movies/322',\n",
       " 'Users/504': 'Movies/807',\n",
       " 'Users/258': 'Movies/893',\n",
       " 'Users/351': 'Movies/341',\n",
       " 'Users/22': 'Movies/377',\n",
       " 'Users/813': 'Movies/335',\n",
       " 'Users/535': 'Movies/1093',\n",
       " 'Users/725': 'Movies/1197',\n",
       " 'Movies/783': 'Users/450',\n",
       " 'Movies/73': 'Users/429',\n",
       " 'Movies/547': 'Users/518',\n",
       " 'Movies/330': 'Users/510',\n",
       " 'Movies/1011': 'Users/862',\n",
       " 'Movies/456': 'Users/699',\n",
       " 'Movies/1054': 'Users/555',\n",
       " 'Movies/1119': 'Users/180',\n",
       " 'Movies/1035': 'Users/347',\n",
       " 'Movies/1311': 'Users/885',\n",
       " 'Movies/227': 'Users/398',\n",
       " 'Movies/562': 'Users/183',\n",
       " 'Movies/549': 'Users/316',\n",
       " 'Movies/1326': 'Users/199',\n",
       " 'Movies/16': 'Users/10',\n",
       " 'Movies/180': 'Users/781',\n",
       " 'Movies/849': 'Users/289',\n",
       " 'Movies/1107': 'Users/343',\n",
       " 'Movies/648': 'Users/458',\n",
       " 'Movies/934': 'Users/630',\n",
       " 'Movies/504': 'Users/269',\n",
       " 'Movies/956': 'Users/527',\n",
       " 'Movies/1346': 'Users/424',\n",
       " 'Movies/142': 'Users/496',\n",
       " 'Movies/469': 'Users/358',\n",
       " 'Movies/490': 'Users/647',\n",
       " 'Movies/696': 'Users/402',\n",
       " 'Movies/380': 'Users/790',\n",
       " 'Movies/252': 'Users/238',\n",
       " 'Movies/351': 'Users/317',\n",
       " 'Movies/128': 'Users/746',\n",
       " 'Movies/692': 'Users/352',\n",
       " 'Movies/607': 'Users/613',\n",
       " 'Movies/1451': 'Users/419',\n",
       " 'Movies/512': 'Users/189',\n",
       " 'Movies/285': 'Users/728',\n",
       " 'Movies/83': 'Users/583',\n",
       " 'Movies/1095': 'Users/67',\n",
       " 'Movies/1037': 'Users/159',\n",
       " 'Movies/153': 'Users/38',\n",
       " 'Movies/844': 'Users/432',\n",
       " 'Movies/359': 'Users/739',\n",
       " 'Movies/414': 'Users/908',\n",
       " 'Movies/936': 'Users/89',\n",
       " 'Movies/356': 'Users/318',\n",
       " 'Movies/772': 'Users/658',\n",
       " 'Movies/663': 'Users/208',\n",
       " 'Movies/428': 'Users/737',\n",
       " 'Movies/932': 'Users/872',\n",
       " 'Movies/826': 'Users/141',\n",
       " 'Movies/433': 'Users/163',\n",
       " 'Movies/610': 'Users/694',\n",
       " 'Movies/323': 'Users/155',\n",
       " 'Movies/735': 'Users/682',\n",
       " 'Movies/899': 'Users/418',\n",
       " 'Movies/307': 'Users/428',\n",
       " 'Movies/976': 'Users/113',\n",
       " 'Movies/430': 'Users/218',\n",
       " 'Movies/56': 'Users/405',\n",
       " 'Movies/363': 'Users/37',\n",
       " 'Movies/1367': 'Users/385',\n",
       " 'Movies/1537': 'Users/819',\n",
       " 'Movies/652': 'Users/361',\n",
       " 'Movies/268': 'Users/651',\n",
       " 'Movies/269': 'Users/784',\n",
       " 'Movies/65': 'Users/409',\n",
       " 'Movies/1191': 'Users/88',\n",
       " 'Movies/77': 'Users/371',\n",
       " 'Movies/406': 'Users/164',\n",
       " 'Movies/654': 'Users/522',\n",
       " 'Movies/532': 'Users/460',\n",
       " 'Movies/478': 'Users/214',\n",
       " 'Movies/1294': 'Users/448',\n",
       " 'Movies/1042': 'Users/291',\n",
       " 'Movies/509': 'Users/901',\n",
       " 'Movies/175': 'Users/456',\n",
       " 'Movies/653': 'Users/292',\n",
       " 'Movies/566': 'Users/186',\n",
       " 'Movies/514': 'Users/121',\n",
       " 'Movies/905': 'Users/353',\n",
       " 'Movies/347': 'Users/229',\n",
       " 'Movies/134': 'Users/71',\n",
       " 'Movies/463': 'Users/142',\n",
       " 'Movies/616': 'Users/124',\n",
       " ...}"
      ]
     },
     "execution_count": 42,
     "metadata": {},
     "output_type": "execute_result"
    }
   ],
   "source": [
    "nx.bipartite.maximum_matching(B, users)"
   ]
  },
  {
   "cell_type": "code",
   "execution_count": 49,
   "metadata": {},
   "outputs": [],
   "source": [
    "t10cu = list(cu.keys())[:10]\n",
    "proj_user = nx.bipartite.projected_graph(B, t10cu)"
   ]
  },
  {
   "cell_type": "code",
   "execution_count": 50,
   "metadata": {},
   "outputs": [
    {
     "data": {
      "text/plain": [
       "8796"
      ]
     },
     "execution_count": 50,
     "metadata": {},
     "output_type": "execute_result"
    }
   ],
   "source": [
    "len(list(proj_user.edges()))"
   ]
  },
  {
   "cell_type": "markdown",
   "metadata": {
    "colab_type": "text",
    "id": "Jv5XKBLfRTjd"
   },
   "source": [
    "## Embed the sub-graph using Node2vec "
   ]
  },
  {
   "cell_type": "code",
   "execution_count": 51,
   "metadata": {
    "colab": {},
    "colab_type": "code",
    "id": "e-fD-eNhX9Lh"
   },
   "outputs": [
    {
     "name": "stderr",
     "output_type": "stream",
     "text": [
      "\n",
      "Computing transition probabilities:   0%|          | 0/914 [00:00<?, ?it/s]\u001b[A\n",
      "Computing transition probabilities:   0%|          | 2/914 [00:00<01:11, 12.71it/s]\u001b[A\n",
      "Computing transition probabilities:   1%|          | 5/914 [00:00<01:02, 14.48it/s]\u001b[A\n",
      "Computing transition probabilities:   1%|          | 7/914 [00:00<00:58, 15.50it/s]\u001b[A\n",
      "Computing transition probabilities:   1%|          | 9/914 [00:00<00:54, 16.53it/s]\u001b[A\n",
      "Computing transition probabilities:   1%|▏         | 12/914 [00:00<00:47, 18.96it/s]\u001b[A\n",
      "Computing transition probabilities:   2%|▏         | 17/914 [00:00<00:39, 22.87it/s]\u001b[A\n",
      "Computing transition probabilities:   2%|▏         | 21/914 [00:00<00:34, 25.69it/s]\u001b[A\n",
      "Computing transition probabilities:   3%|▎         | 26/914 [00:00<00:30, 29.22it/s]\u001b[A\n",
      "Computing transition probabilities:   3%|▎         | 31/914 [00:01<00:27, 32.42it/s]\u001b[A\n",
      "Computing transition probabilities:   4%|▍         | 36/914 [00:01<00:25, 34.98it/s]\u001b[A\n",
      "Computing transition probabilities:   4%|▍         | 41/914 [00:01<00:23, 37.41it/s]\u001b[A\n",
      "Computing transition probabilities:   5%|▌         | 46/914 [00:01<00:22, 38.14it/s]\u001b[A\n",
      "Computing transition probabilities:   6%|▌         | 51/914 [00:01<00:21, 39.72it/s]\u001b[A\n",
      "Computing transition probabilities:   6%|▌         | 56/914 [00:01<00:21, 40.71it/s]\u001b[A\n",
      "Computing transition probabilities:   7%|▋         | 61/914 [00:01<00:20, 41.39it/s]\u001b[A\n",
      "Computing transition probabilities:   7%|▋         | 66/914 [00:01<00:21, 40.26it/s]\u001b[A\n",
      "Computing transition probabilities:   8%|▊         | 71/914 [00:02<00:23, 36.42it/s]\u001b[A\n",
      "Computing transition probabilities:   8%|▊         | 75/914 [00:02<00:23, 35.72it/s]\u001b[A\n",
      "Computing transition probabilities:   9%|▉         | 80/914 [00:02<00:22, 37.79it/s]\u001b[A\n",
      "Computing transition probabilities:   9%|▉         | 85/914 [00:02<00:20, 39.76it/s]\u001b[A\n",
      "Computing transition probabilities:  10%|▉         | 90/914 [00:02<00:20, 41.01it/s]\u001b[A\n",
      "Computing transition probabilities:  10%|█         | 95/914 [00:02<00:19, 42.46it/s]\u001b[A\n",
      "Computing transition probabilities:  11%|█         | 100/914 [00:02<00:19, 42.66it/s]\u001b[A\n",
      "Computing transition probabilities:  11%|█▏        | 105/914 [00:02<00:19, 42.36it/s]\u001b[A\n",
      "Computing transition probabilities:  12%|█▏        | 110/914 [00:02<00:18, 42.96it/s]\u001b[A\n",
      "Computing transition probabilities:  13%|█▎        | 115/914 [00:03<00:18, 43.48it/s]\u001b[A\n",
      "Computing transition probabilities:  13%|█▎        | 120/914 [00:03<00:18, 43.02it/s]\u001b[A\n",
      "Computing transition probabilities:  14%|█▎        | 125/914 [00:03<00:18, 41.82it/s]\u001b[A\n",
      "Computing transition probabilities:  14%|█▍        | 130/914 [00:03<00:18, 42.35it/s]\u001b[A\n",
      "Computing transition probabilities:  15%|█▍        | 135/914 [00:03<00:18, 42.62it/s]\u001b[A\n",
      "Computing transition probabilities:  15%|█▌        | 140/914 [00:03<00:17, 43.09it/s]\u001b[A\n",
      "Computing transition probabilities:  16%|█▌        | 145/914 [00:03<00:17, 42.74it/s]\u001b[A\n",
      "Computing transition probabilities:  16%|█▋        | 150/914 [00:03<00:17, 43.02it/s]\u001b[A\n",
      "Computing transition probabilities:  17%|█▋        | 155/914 [00:04<00:17, 43.25it/s]\u001b[A\n",
      "Computing transition probabilities:  18%|█▊        | 160/914 [00:04<00:17, 44.01it/s]\u001b[A\n",
      "Computing transition probabilities:  18%|█▊        | 165/914 [00:04<00:16, 44.15it/s]\u001b[A\n",
      "Computing transition probabilities:  19%|█▊        | 170/914 [00:04<00:17, 43.07it/s]\u001b[A\n",
      "Computing transition probabilities:  19%|█▉        | 175/914 [00:04<00:18, 39.69it/s]\u001b[A\n",
      "Computing transition probabilities:  20%|█▉        | 180/914 [00:04<00:20, 35.35it/s]\u001b[A\n",
      "Computing transition probabilities:  20%|██        | 184/914 [00:04<00:20, 35.68it/s]\u001b[A\n",
      "Computing transition probabilities:  21%|██        | 189/914 [00:04<00:19, 37.88it/s]\u001b[A\n",
      "Computing transition probabilities:  21%|██        | 194/914 [00:05<00:18, 39.40it/s]\u001b[A\n",
      "Computing transition probabilities:  22%|██▏       | 199/914 [00:05<00:17, 40.06it/s]\u001b[A\n",
      "Computing transition probabilities:  22%|██▏       | 204/914 [00:05<00:17, 39.64it/s]\u001b[A\n",
      "Computing transition probabilities:  23%|██▎       | 209/914 [00:05<00:18, 38.32it/s]\u001b[A\n",
      "Computing transition probabilities:  23%|██▎       | 213/914 [00:05<00:20, 34.97it/s]\u001b[A\n",
      "Computing transition probabilities:  24%|██▍       | 218/914 [00:05<00:18, 36.79it/s]\u001b[A\n",
      "Computing transition probabilities:  24%|██▍       | 223/914 [00:05<00:17, 38.58it/s]\u001b[A\n",
      "Computing transition probabilities:  25%|██▍       | 228/914 [00:05<00:17, 40.06it/s]\u001b[A\n",
      "Computing transition probabilities:  25%|██▌       | 233/914 [00:06<00:16, 41.43it/s]\u001b[A\n",
      "Computing transition probabilities:  26%|██▌       | 238/914 [00:06<00:16, 42.15it/s]\u001b[A\n",
      "Computing transition probabilities:  27%|██▋       | 243/914 [00:06<00:15, 42.33it/s]\u001b[A\n",
      "Computing transition probabilities:  27%|██▋       | 248/914 [00:06<00:15, 42.58it/s]\u001b[A\n",
      "Computing transition probabilities:  28%|██▊       | 253/914 [00:06<00:15, 42.10it/s]\u001b[A\n",
      "Computing transition probabilities:  28%|██▊       | 258/914 [00:06<00:15, 42.72it/s]\u001b[A\n",
      "Computing transition probabilities:  29%|██▉       | 263/914 [00:06<00:15, 42.96it/s]\u001b[A\n",
      "Computing transition probabilities:  29%|██▉       | 268/914 [00:06<00:15, 42.57it/s]\u001b[A\n",
      "Computing transition probabilities:  30%|██▉       | 273/914 [00:06<00:15, 42.08it/s]\u001b[A\n",
      "Computing transition probabilities:  30%|███       | 278/914 [00:07<00:14, 42.57it/s]\u001b[A\n",
      "Computing transition probabilities:  31%|███       | 283/914 [00:07<00:14, 42.56it/s]\u001b[A\n",
      "Computing transition probabilities:  32%|███▏      | 288/914 [00:07<00:16, 38.48it/s]\u001b[A\n",
      "Computing transition probabilities:  32%|███▏      | 292/914 [00:07<00:16, 37.26it/s]\u001b[A\n",
      "Computing transition probabilities:  32%|███▏      | 297/914 [00:07<00:16, 38.54it/s]\u001b[A\n",
      "Computing transition probabilities:  33%|███▎      | 301/914 [00:07<00:16, 37.13it/s]\u001b[A\n",
      "Computing transition probabilities:  33%|███▎      | 305/914 [00:07<00:17, 35.08it/s]\u001b[A\n",
      "Computing transition probabilities:  34%|███▍      | 310/914 [00:07<00:16, 37.11it/s]\u001b[A\n",
      "Computing transition probabilities:  34%|███▍      | 315/914 [00:08<00:15, 38.87it/s]\u001b[A\n",
      "Computing transition probabilities:  35%|███▌      | 320/914 [00:08<00:14, 40.00it/s]\u001b[A\n",
      "Computing transition probabilities:  36%|███▌      | 325/914 [00:08<00:14, 41.13it/s]\u001b[A\n",
      "Computing transition probabilities:  36%|███▌      | 330/914 [00:08<00:13, 41.77it/s]\u001b[A\n",
      "Computing transition probabilities:  37%|███▋      | 335/914 [00:08<00:13, 42.23it/s]\u001b[A\n",
      "Computing transition probabilities:  37%|███▋      | 340/914 [00:08<00:13, 42.54it/s]\u001b[A\n",
      "Computing transition probabilities:  38%|███▊      | 345/914 [00:08<00:13, 42.62it/s]\u001b[A\n",
      "Computing transition probabilities:  38%|███▊      | 350/914 [00:08<00:13, 42.73it/s]\u001b[A\n",
      "Computing transition probabilities:  39%|███▉      | 355/914 [00:08<00:12, 43.13it/s]\u001b[A\n",
      "Computing transition probabilities:  39%|███▉      | 360/914 [00:09<00:12, 43.38it/s]\u001b[A\n",
      "Computing transition probabilities:  40%|███▉      | 365/914 [00:09<00:12, 43.55it/s]\u001b[A\n",
      "Computing transition probabilities:  40%|████      | 370/914 [00:09<00:12, 43.49it/s]\u001b[A\n",
      "Computing transition probabilities:  41%|████      | 375/914 [00:09<00:12, 43.64it/s]\u001b[A\n",
      "Computing transition probabilities:  42%|████▏     | 380/914 [00:09<00:12, 43.83it/s]\u001b[A\n",
      "Computing transition probabilities:  42%|████▏     | 385/914 [00:09<00:12, 43.61it/s]\u001b[A\n",
      "Computing transition probabilities:  43%|████▎     | 390/914 [00:09<00:12, 43.35it/s]\u001b[A\n",
      "Computing transition probabilities:  43%|████▎     | 395/914 [00:09<00:11, 43.53it/s]\u001b[A\n",
      "Computing transition probabilities:  44%|████▍     | 400/914 [00:10<00:11, 43.51it/s]\u001b[A\n",
      "Computing transition probabilities:  44%|████▍     | 405/914 [00:10<00:11, 43.54it/s]\u001b[A\n",
      "Computing transition probabilities:  45%|████▍     | 410/914 [00:10<00:11, 43.40it/s]\u001b[A\n",
      "Computing transition probabilities:  45%|████▌     | 415/914 [00:10<00:11, 43.36it/s]\u001b[A\n",
      "Computing transition probabilities:  46%|████▌     | 420/914 [00:10<00:11, 43.29it/s]\u001b[A\n",
      "Computing transition probabilities:  46%|████▋     | 425/914 [00:10<00:11, 43.25it/s]\u001b[A\n",
      "Computing transition probabilities:  47%|████▋     | 430/914 [00:10<00:11, 42.90it/s]\u001b[A\n",
      "Computing transition probabilities:  48%|████▊     | 435/914 [00:10<00:11, 42.93it/s]\u001b[A\n"
     ]
    },
    {
     "name": "stderr",
     "output_type": "stream",
     "text": [
      "Computing transition probabilities:  48%|████▊     | 440/914 [00:10<00:11, 42.78it/s]\u001b[A\n",
      "Computing transition probabilities:  49%|████▊     | 445/914 [00:11<00:11, 41.53it/s]\u001b[A\n",
      "Computing transition probabilities:  49%|████▉     | 450/914 [00:11<00:10, 42.29it/s]\u001b[A\n",
      "Computing transition probabilities:  50%|████▉     | 455/914 [00:11<00:10, 42.71it/s]\u001b[A\n",
      "Computing transition probabilities:  50%|█████     | 460/914 [00:11<00:10, 43.07it/s]\u001b[A\n",
      "Computing transition probabilities:  51%|█████     | 465/914 [00:11<00:10, 43.32it/s]\u001b[A\n",
      "Computing transition probabilities:  51%|█████▏    | 470/914 [00:11<00:10, 43.22it/s]\u001b[A\n",
      "Computing transition probabilities:  52%|█████▏    | 475/914 [00:11<00:10, 43.39it/s]\u001b[A\n",
      "Computing transition probabilities:  53%|█████▎    | 480/914 [00:11<00:09, 43.62it/s]\u001b[A\n",
      "Computing transition probabilities:  53%|█████▎    | 485/914 [00:11<00:09, 43.63it/s]\u001b[A\n",
      "Computing transition probabilities:  54%|█████▎    | 490/914 [00:12<00:09, 43.55it/s]\u001b[A\n",
      "Computing transition probabilities:  54%|█████▍    | 495/914 [00:12<00:09, 43.49it/s]\u001b[A\n",
      "Computing transition probabilities:  55%|█████▍    | 500/914 [00:12<00:09, 43.16it/s]\u001b[A\n",
      "Computing transition probabilities:  55%|█████▌    | 505/914 [00:12<00:09, 42.75it/s]\u001b[A\n",
      "Computing transition probabilities:  56%|█████▌    | 510/914 [00:12<00:09, 43.12it/s]\u001b[A\n",
      "Computing transition probabilities:  56%|█████▋    | 515/914 [00:12<00:09, 42.94it/s]\u001b[A\n",
      "Computing transition probabilities:  57%|█████▋    | 520/914 [00:12<00:09, 40.04it/s]\u001b[A\n",
      "Computing transition probabilities:  57%|█████▋    | 525/914 [00:12<00:09, 40.22it/s]\u001b[A\n",
      "Computing transition probabilities:  58%|█████▊    | 530/914 [00:13<00:09, 41.21it/s]\u001b[A\n",
      "Computing transition probabilities:  59%|█████▊    | 535/914 [00:13<00:09, 39.37it/s]\u001b[A\n",
      "Computing transition probabilities:  59%|█████▉    | 539/914 [00:13<00:10, 37.23it/s]\u001b[A\n",
      "Computing transition probabilities:  60%|█████▉    | 544/914 [00:13<00:09, 39.08it/s]\u001b[A\n",
      "Computing transition probabilities:  60%|█████▉    | 548/914 [00:13<00:09, 38.34it/s]\u001b[A\n",
      "Computing transition probabilities:  60%|██████    | 552/914 [00:13<00:09, 38.01it/s]\u001b[A\n",
      "Computing transition probabilities:  61%|██████    | 557/914 [00:13<00:09, 39.20it/s]\u001b[A\n",
      "Computing transition probabilities:  61%|██████▏   | 561/914 [00:13<00:09, 38.82it/s]\u001b[A\n",
      "Computing transition probabilities:  62%|██████▏   | 565/914 [00:13<00:09, 37.78it/s]\u001b[A\n",
      "Computing transition probabilities:  62%|██████▏   | 570/914 [00:14<00:08, 39.41it/s]\u001b[A\n",
      "Computing transition probabilities:  63%|██████▎   | 574/914 [00:14<00:08, 37.93it/s]\u001b[A\n",
      "Computing transition probabilities:  63%|██████▎   | 578/914 [00:14<00:08, 37.37it/s]\u001b[A\n",
      "Computing transition probabilities:  64%|██████▍   | 583/914 [00:14<00:08, 38.69it/s]\u001b[A\n",
      "Computing transition probabilities:  64%|██████▍   | 588/914 [00:14<00:08, 39.65it/s]\u001b[A\n",
      "Computing transition probabilities:  65%|██████▍   | 592/914 [00:14<00:08, 39.14it/s]\u001b[A\n",
      "Computing transition probabilities:  65%|██████▌   | 596/914 [00:14<00:08, 36.05it/s]\u001b[A\n",
      "Computing transition probabilities:  66%|██████▌   | 601/914 [00:14<00:08, 38.01it/s]\u001b[A\n",
      "Computing transition probabilities:  66%|██████▌   | 605/914 [00:15<00:08, 36.53it/s]\u001b[A\n",
      "Computing transition probabilities:  67%|██████▋   | 609/914 [00:15<00:08, 33.94it/s]\u001b[A\n",
      "Computing transition probabilities:  67%|██████▋   | 613/914 [00:15<00:09, 33.14it/s]\u001b[A\n",
      "Computing transition probabilities:  68%|██████▊   | 617/914 [00:15<00:08, 33.05it/s]\u001b[A\n",
      "Computing transition probabilities:  68%|██████▊   | 622/914 [00:15<00:08, 35.74it/s]\u001b[A\n",
      "Computing transition probabilities:  68%|██████▊   | 626/914 [00:15<00:08, 34.70it/s]\u001b[A\n",
      "Computing transition probabilities:  69%|██████▉   | 630/914 [00:15<00:08, 33.78it/s]\u001b[A\n",
      "Computing transition probabilities:  69%|██████▉   | 635/914 [00:15<00:07, 36.32it/s]\u001b[A\n",
      "Computing transition probabilities:  70%|██████▉   | 639/914 [00:16<00:07, 36.59it/s]\u001b[A\n",
      "Computing transition probabilities:  70%|███████   | 643/914 [00:16<00:07, 34.90it/s]\u001b[A\n",
      "Computing transition probabilities:  71%|███████   | 647/914 [00:16<00:07, 35.11it/s]\u001b[A\n",
      "Computing transition probabilities:  71%|███████▏  | 652/914 [00:16<00:07, 36.60it/s]\u001b[A\n",
      "Computing transition probabilities:  72%|███████▏  | 656/914 [00:16<00:07, 35.77it/s]\u001b[A\n",
      "Computing transition probabilities:  72%|███████▏  | 661/914 [00:16<00:06, 37.53it/s]\u001b[A\n",
      "Computing transition probabilities:  73%|███████▎  | 665/914 [00:16<00:06, 37.22it/s]\u001b[A\n",
      "Computing transition probabilities:  73%|███████▎  | 669/914 [00:16<00:06, 35.85it/s]\u001b[A\n",
      "Computing transition probabilities:  74%|███████▎  | 674/914 [00:16<00:06, 37.70it/s]\u001b[A\n",
      "Computing transition probabilities:  74%|███████▍  | 678/914 [00:17<00:06, 36.17it/s]\u001b[A\n",
      "Computing transition probabilities:  75%|███████▍  | 682/914 [00:17<00:06, 35.60it/s]\u001b[A\n",
      "Computing transition probabilities:  75%|███████▌  | 686/914 [00:17<00:06, 36.55it/s]\u001b[A\n",
      "Computing transition probabilities:  75%|███████▌  | 690/914 [00:17<00:06, 34.72it/s]\u001b[A\n",
      "Computing transition probabilities:  76%|███████▌  | 694/914 [00:17<00:06, 33.67it/s]\u001b[A\n",
      "Computing transition probabilities:  76%|███████▋  | 699/914 [00:17<00:06, 35.80it/s]\u001b[A\n",
      "Computing transition probabilities:  77%|███████▋  | 703/914 [00:17<00:06, 34.09it/s]\u001b[A\n",
      "Computing transition probabilities:  77%|███████▋  | 707/914 [00:17<00:06, 34.15it/s]\u001b[A\n",
      "Computing transition probabilities:  78%|███████▊  | 712/914 [00:18<00:05, 35.78it/s]\u001b[A\n",
      "Computing transition probabilities:  78%|███████▊  | 716/914 [00:18<00:05, 34.88it/s]\u001b[A\n",
      "Computing transition probabilities:  79%|███████▉  | 720/914 [00:18<00:05, 33.86it/s]\u001b[A\n",
      "Computing transition probabilities:  79%|███████▉  | 725/914 [00:18<00:05, 35.87it/s]\u001b[A\n",
      "Computing transition probabilities:  80%|███████▉  | 729/914 [00:18<00:05, 35.05it/s]\u001b[A\n",
      "Computing transition probabilities:  80%|████████  | 733/914 [00:18<00:05, 33.95it/s]\u001b[A\n",
      "Computing transition probabilities:  81%|████████  | 738/914 [00:18<00:04, 36.17it/s]\u001b[A\n",
      "Computing transition probabilities:  81%|████████  | 742/914 [00:18<00:04, 36.41it/s]\u001b[A\n",
      "Computing transition probabilities:  82%|████████▏ | 746/914 [00:19<00:04, 35.12it/s]\u001b[A\n",
      "Computing transition probabilities:  82%|████████▏ | 751/914 [00:19<00:04, 36.73it/s]\u001b[A\n",
      "Computing transition probabilities:  83%|████████▎ | 755/914 [00:19<00:04, 35.53it/s]\u001b[A\n",
      "Computing transition probabilities:  83%|████████▎ | 759/914 [00:19<00:04, 35.28it/s]\u001b[A\n",
      "Computing transition probabilities:  84%|████████▎ | 764/914 [00:19<00:04, 37.07it/s]\u001b[A\n",
      "Computing transition probabilities:  84%|████████▍ | 769/914 [00:19<00:03, 38.34it/s]\u001b[A\n",
      "Computing transition probabilities:  85%|████████▍ | 774/914 [00:19<00:03, 40.09it/s]\u001b[A\n",
      "Computing transition probabilities:  85%|████████▌ | 779/914 [00:19<00:03, 41.53it/s]\u001b[A\n",
      "Computing transition probabilities:  86%|████████▌ | 784/914 [00:19<00:03, 41.11it/s]\u001b[A\n",
      "Computing transition probabilities:  86%|████████▋ | 789/914 [00:20<00:03, 39.77it/s]\u001b[A\n",
      "Computing transition probabilities:  87%|████████▋ | 795/914 [00:20<00:02, 43.10it/s]\u001b[A\n",
      "Computing transition probabilities:  88%|████████▊ | 800/914 [00:20<00:02, 41.20it/s]\u001b[A\n",
      "Computing transition probabilities:  88%|████████▊ | 805/914 [00:20<00:02, 39.71it/s]\u001b[A\n",
      "Computing transition probabilities:  89%|████████▊ | 810/914 [00:20<00:02, 41.42it/s]\u001b[A\n",
      "Computing transition probabilities:  89%|████████▉ | 815/914 [00:20<00:02, 39.85it/s]\u001b[A\n",
      "Computing transition probabilities:  90%|████████▉ | 820/914 [00:20<00:02, 41.58it/s]\u001b[A\n",
      "Computing transition probabilities:  90%|█████████ | 825/914 [00:20<00:02, 41.22it/s]\u001b[A\n",
      "Computing transition probabilities:  91%|█████████ | 830/914 [00:21<00:02, 40.30it/s]\u001b[A\n",
      "Computing transition probabilities:  91%|█████████▏| 835/914 [00:21<00:02, 39.32it/s]\u001b[A\n",
      "Computing transition probabilities:  92%|█████████▏| 839/914 [00:21<00:01, 39.28it/s]\u001b[A\n",
      "Computing transition probabilities:  92%|█████████▏| 844/914 [00:21<00:01, 40.58it/s]\u001b[A\n",
      "Computing transition probabilities:  93%|█████████▎| 849/914 [00:21<00:01, 42.49it/s]\u001b[A\n",
      "Computing transition probabilities:  93%|█████████▎| 854/914 [00:21<00:01, 43.33it/s]\u001b[A\n",
      "Computing transition probabilities:  94%|█████████▍| 859/914 [00:21<00:01, 44.48it/s]\u001b[A\n"
     ]
    },
    {
     "name": "stderr",
     "output_type": "stream",
     "text": [
      "Computing transition probabilities:  95%|█████████▍| 864/914 [00:21<00:01, 41.91it/s]\u001b[A\n",
      "Computing transition probabilities:  95%|█████████▌| 869/914 [00:22<00:01, 40.63it/s]\u001b[A\n",
      "Computing transition probabilities:  96%|█████████▌| 874/914 [00:22<00:00, 41.44it/s]\u001b[A\n",
      "Computing transition probabilities:  96%|█████████▌| 879/914 [00:22<00:00, 40.44it/s]\u001b[A\n",
      "Computing transition probabilities:  97%|█████████▋| 884/914 [00:22<00:00, 41.09it/s]\u001b[A\n",
      "Computing transition probabilities:  97%|█████████▋| 889/914 [00:22<00:00, 42.04it/s]\u001b[A\n",
      "Computing transition probabilities:  98%|█████████▊| 894/914 [00:22<00:00, 41.08it/s]\u001b[A\n",
      "Computing transition probabilities:  98%|█████████▊| 899/914 [00:22<00:00, 43.01it/s]\u001b[A\n",
      "Computing transition probabilities:  99%|█████████▉| 904/914 [00:22<00:00, 42.16it/s]\u001b[A\n",
      "Computing transition probabilities: 100%|█████████▉| 911/914 [00:22<00:00, 47.36it/s]\u001b[A\n",
      "Computing transition probabilities: 100%|██████████| 914/914 [00:22<00:00, 39.78it/s]\u001b[A"
     ]
    }
   ],
   "source": [
    "from node2vec import Node2Vec\n",
    "node2vec = Node2Vec(proj_user, dimensions=64, walk_length=10, num_walks=100, workers=4)"
   ]
  },
  {
   "cell_type": "code",
   "execution_count": 52,
   "metadata": {
    "colab": {},
    "colab_type": "code",
    "id": "6hu6Z0VPYDFK"
   },
   "outputs": [],
   "source": [
    "model = node2vec.fit(window=10, min_count=1, batch_words=4)"
   ]
  },
  {
   "cell_type": "code",
   "execution_count": 53,
   "metadata": {},
   "outputs": [
    {
     "data": {
      "text/plain": [
       "'Users/64'"
      ]
     },
     "execution_count": 53,
     "metadata": {},
     "output_type": "execute_result"
    }
   ],
   "source": [
    "t10cu[2]"
   ]
  },
  {
   "cell_type": "code",
   "execution_count": 54,
   "metadata": {
    "colab": {},
    "colab_type": "code",
    "id": "41YVYl3jYHia"
   },
   "outputs": [
    {
     "data": {
      "text/plain": [
       "[('Users/493', 0.9396809339523315),\n",
       " ('Users/249', 0.9299314618110657),\n",
       " ('Users/347', 0.9072099328041077),\n",
       " ('Users/178', 0.9064388275146484),\n",
       " ('Users/301', 0.8948710560798645),\n",
       " ('Users/297', 0.8911440372467041),\n",
       " ('Users/198', 0.8305823802947998),\n",
       " ('Users/919', 0.8253218531608582),\n",
       " ('Users/533', 0.7877912521362305),\n",
       " ('Users/819', 0.5949041247367859)]"
      ]
     },
     "execution_count": 54,
     "metadata": {},
     "output_type": "execute_result"
    }
   ],
   "source": [
    "model.wv.most_similar(t10cu[2])"
   ]
  },
  {
   "cell_type": "code",
   "execution_count": 56,
   "metadata": {},
   "outputs": [],
   "source": [
    "t10cu_emb = [list(model.wv.get_vector(n)) for n in proj_user.nodes()]"
   ]
  },
  {
   "cell_type": "code",
   "execution_count": 57,
   "metadata": {},
   "outputs": [
    {
     "data": {
      "text/plain": [
       "<matplotlib.axes._subplots.AxesSubplot at 0x7f7ce7879d10>"
      ]
     },
     "execution_count": 57,
     "metadata": {},
     "output_type": "execute_result"
    },
    {
     "data": {
      "image/png": "[encoded data removed]",
      "text/plain": [
       "<Figure size 842.4x595.44 with 1 Axes>"
      ]
     },
     "metadata": {},
     "output_type": "display_data"
    }
   ],
   "source": [
    "import numpy as np\n",
    "from matplotlib  import cm\n",
    "from sklearn.manifold import TSNE\n",
    "fig = plt.figure(figsize=(11.7,8.27))\n",
    "plt.grid(True)\n",
    "plt.xlabel(\"Comp 1\")\n",
    "plt.ylabel(\"Comp 2\")\n",
    "plt.title(\"tSNE plot of subgraph of top 10 most clustered users\")\n",
    "t10cu_embedded = TSNE(n_components=2).fit_transform(t10cu_emb)\n",
    "sns.scatterplot(t10cu_embedded[:,0], t10cu_embedded[:,1])"
   ]
  },
  {
   "cell_type": "markdown",
   "metadata": {},
   "source": [
    "__Using the Networkx adapter we have been able to perform a range of analysis tasks using the Networkx API. We were also able use the Networkx graph to obtain an embedding of a graph using Node2vec.__"
   ]
  },
  {
   "cell_type": "code",
   "execution_count": null,
   "metadata": {},
   "outputs": [],
   "source": []
  }
 ],
 "metadata": {
  "colab": {
   "include_colab_link": true,
   "name": "IMDB_Networkx_Adapter.ipynb",
   "provenance": []
  },
  "kernelspec": {
   "display_name": "Python 3",
   "language": "python",
   "name": "python3"
  },
  "language_info": {
   "codemirror_mode": {
    "name": "ipython",
    "version": 3
   },
   "file_extension": ".py",
   "mimetype": "text/x-python",
   "name": "python",
   "nbconvert_exporter": "python",
   "pygments_lexer": "ipython3",
   "version": "3.7.6"
  }
 },
 "nbformat": 4,
 "nbformat_minor": 1
}
