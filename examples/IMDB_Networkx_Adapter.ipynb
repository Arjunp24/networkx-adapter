{
 "cells": [
  {
   "cell_type": "markdown",
   "metadata": {
    "colab_type": "text",
    "id": "view-in-github"
   },
   "source": [
    "<a href=\"https://colab.research.google.com/github/arangoml/networkx-adapter/blob/doc_updates_nx/examples/IMDB_Networkx_Adapter.ipynb\" target=\"_parent\"><img src=\"https://colab.research.google.com/assets/colab-badge.svg\" alt=\"Open In Colab\"/></a>"
   ]
  },
  {
   "cell_type": "markdown",
   "metadata": {
    "colab_type": "text",
    "id": "VLfArBaMRTiM"
   },
   "source": [
    "# Using Node2Vec to Embed Viewers of a Movie using the ArangoDB IMDB NetworkX Adapter"
   ]
  },
  {
   "cell_type": "markdown",
   "metadata": {
    "colab_type": "text",
    "id": "Wd0_wS6TRTiO"
   },
   "source": [
    "This notebook provides the details of using the ArangoDB IMDB NetworkX adapter to develop a _node2vec_ embedding of the viewers of a movie from the _IMDB_ database. "
   ]
  },
  {
   "cell_type": "markdown",
   "metadata": {
    "colab_type": "text",
    "id": "NwlgpvAcRTiP"
   },
   "source": [
    "## Install Required Libraries "
   ]
  },
  {
   "cell_type": "markdown",
   "metadata": {
    "colab_type": "text",
    "id": "view-in-github"
   },
   "source": [
    "<a href=\"https://colab.research.google.com/github/arangoml/networkx-adapter/blob/dgl_updates/examples/IMDB_Networkx_Adapter.ipynb\" target=\"_parent\"><img src=\"https://colab.research.google.com/assets/colab-badge.svg\" alt=\"Open In Colab\"/></a>"
   ]
  },
  {
   "cell_type": "code",
   "execution_count": 0,
   "metadata": {
    "colab": {},
    "colab_type": "code",
    "id": "ZMtTZ5Oth0N-"
   },
   "outputs": [],
   "source": [
    "%%capture\n",
    "!git clone -b doc_updates_nx https://github.com/arangoml/networkx-adapter.git\n",
    "!rsync -av networkx-adapter/examples/ ./ --exclude=.git\n",
    "!pip3 install networkx\n",
    "!pip3 install matplotlib\n",
    "!pip3 install --index-url https://test.pypi.org/simple/ adbnx-adapter==0.0.0.2.5.3\n",
    "!pip3 install pyarango\n",
    "!pip3 install python-arango\n",
    "!pip install node2vec\n",
    "!pip install seaborn"
   ]
  },
  {
   "cell_type": "code",
   "execution_count": 8,
   "metadata": {
    "colab": {},
    "colab_type": "code",
    "id": "oBYYw8ttSbBm"
   },
   "outputs": [],
   "source": [
    "!rm creds.dat\n",
    "!touch creds.dat"
   ]
  },
  {
   "cell_type": "markdown",
   "metadata": {
    "colab_type": "text",
    "id": "BRAQ2O7fRTiX"
   },
   "source": [
    "## Get a Oasis Connection"
   ]
  },
  {
   "cell_type": "markdown",
   "metadata": {
    "colab_type": "text",
    "id": "kTLmib2BRTiY"
   },
   "source": [
    "__Oasis__, the managed database service offering from ArangoDB, will be used for this exercise. This eliminates the need for setting up and configuring an instance of a database."
   ]
  },
  {
   "cell_type": "code",
   "execution_count": 1,
   "metadata": {
    "colab": {},
    "colab_type": "code",
    "id": "9voIoaGRS0cB"
   },
   "outputs": [
    {
     "name": "stdout",
     "output_type": "stream",
     "text": [
      "Credentials expired.\n",
      "Requesting new temp credentials.\n",
      "Temp database ready to use.\n",
      "\n",
      "https://d383fa0b596a.arangodb.cloud:8529\n",
      "Username: TUTt59ijgodkinwewhdwgw01s\n",
      "Password: TUTz0ydqif5c1n3hw3fb3xxqs\n",
      "Database: TUTkkzahxo9h1d0m2kxdxdwo\n"
     ]
    }
   ],
   "source": [
    "from adbnx_adapter.imdb_arangoDB_networkx_adapter import IMDBArangoDB_Networkx_Adapter\n",
    "import oasis\n",
    "con = oasis.getTempCredentials()\n",
    "\n",
    "print()\n",
    "print(\"https://{}:{}\".format(con[\"hostname\"], con[\"port\"]))\n",
    "print(\"Username: \" + con[\"username\"])\n",
    "print(\"Password: \" + con[\"password\"])\n",
    "print(\"Database: \" + con[\"dbName\"])\n",
    "\n",
    "\n",
    "ma = IMDBArangoDB_Networkx_Adapter(conn=con)"
   ]
  },
  {
   "cell_type": "markdown",
   "metadata": {
    "colab_type": "text",
    "id": "APNXpksoRTif"
   },
   "source": [
    "## Create the Collections for the Database "
   ]
  },
  {
   "cell_type": "code",
   "execution_count": 2,
   "metadata": {
    "colab": {},
    "colab_type": "code",
    "id": "RQAoZi3AW9ru"
   },
   "outputs": [],
   "source": [
    "# Connect to the temp database\n",
    "conn = oasis.connect(con)\n",
    "db = conn[con[\"dbName\"]]"
   ]
  },
  {
   "cell_type": "code",
   "execution_count": 3,
   "metadata": {
    "colab": {},
    "colab_type": "code",
    "id": "tDmWTWYkW6VW"
   },
   "outputs": [
    {
     "name": "stdout",
     "output_type": "stream",
     "text": [
      "Collection/Graph Setup done.\n"
     ]
    }
   ],
   "source": [
    "import csv\n",
    "import json\n",
    "import requests\n",
    "import sys\n",
    "import oasis\n",
    "\n",
    "\n",
    "from pyArango.connection import *\n",
    "from pyArango.collection import Collection, Edges, Field\n",
    "from pyArango.graph import Graph, EdgeDefinition\n",
    "from pyArango.collection import BulkOperation as BulkOperation\n",
    "from pyArango.collection import Collection, Field\n",
    "from pyArango.graph import Graph, EdgeDefinition\n",
    "\n",
    "\n",
    "class Users(Collection):\n",
    "    _fields = {\n",
    "        \"user_id\": Field(),\n",
    "        \"age\": Field(),\n",
    "        \"gender\": Field()\n",
    "    }\n",
    "    \n",
    "class Movies(Collection):\n",
    "    _fields = {\n",
    "        \"movie_id\": Field(),\n",
    "        \"movie_title\": Field(),\n",
    "        \"release_data\": Field()\n",
    "    }\n",
    "\n",
    "class Ratings(Edges): \n",
    "    _fields = {\n",
    "        #user_id and item_id are encoded by _from, _to \n",
    "        \"rating\": Field(),\n",
    "        \"timestamp\": Field()\n",
    "    }\n",
    "\n",
    "class IMDBGraph(Graph) :\n",
    "    _edgeDefinitions = [EdgeDefinition(\"Ratings\", fromCollections=[\"Users\"], toCollections=[\"Movies\"])]\n",
    "    _orphanedCollections = []\n",
    "\n",
    "db.createCollection(\"Users\")\n",
    "db.createCollection(\"Movies\")\n",
    "db.createCollection(\"Ratings\")\n",
    "iMDBGraph = db.createGraph(\"IMDBGraph\")\n",
    "\n",
    "print(\"Collection/Graph Setup done.\")"
   ]
  },
  {
   "cell_type": "markdown",
   "metadata": {
    "colab_type": "text",
    "id": "f0nSSiRnRTit"
   },
   "source": [
    "## Load the Data "
   ]
  },
  {
   "cell_type": "code",
   "execution_count": 4,
   "metadata": {
    "colab": {},
    "colab_type": "code",
    "id": "neURfa3jXPs5"
   },
   "outputs": [
    {
     "name": "stdout",
     "output_type": "stream",
     "text": [
      "Import Done\n"
     ]
    }
   ],
   "source": [
    "collection = db[\"Users\"]\n",
    "with BulkOperation(collection, batchSize=100) as col:\n",
    "    with open('data/users.csv', newline='') as csvfile:\n",
    "        reader = csv.reader(csvfile, delimiter=',', quotechar='|')\n",
    "        # Skip header\n",
    "        next(reader)\n",
    "        for row in reader:\n",
    "            user_id, age, gender, occupation, zip = tuple(row)\n",
    "            doc = col.createDocument()\n",
    "            doc[\"_key\"] = user_id\n",
    "#             doc[\"age\"] = age\n",
    "#             doc[\"gender\"] = gender\n",
    "            doc.save()\n",
    "\n",
    "collection = db[\"Movies\"]\n",
    "with BulkOperation(collection, batchSize=100) as col:\n",
    "    with open('data/movies.csv', newline='') as csvfile:\n",
    "        reader = csv.reader(csvfile, delimiter=',', quotechar='|')\n",
    "        # Skip header\n",
    "        next(reader)\n",
    "        for row in reader:\n",
    "            movie_id, movie_title, release_date, video_release_date, url, unknown, action, adventure, animation, childrens, comedy, crime, documentary, drama, fantasy, noir, horror, musical, mystery, romance, scifi, thriller, war, western = tuple(\n",
    "                row)\n",
    "            doc = col.createDocument()\n",
    "            doc[\"_key\"] = movie_id\n",
    "#             doc[\"movie_title\"] = movie_title\n",
    "#             doc[\"release_date\"] = release_date\n",
    "            doc.save()\n",
    "\n",
    "collection = db[\"Ratings\"]\n",
    "with BulkOperation(collection, batchSize=1000) as col:\n",
    "    with open('data/ratings.csv', newline='') as csvfile:\n",
    "        reader = csv.reader(csvfile, delimiter=',', quotechar='|')\n",
    "        # Skip header\n",
    "        next(reader)\n",
    "        for row in reader:\n",
    "            user_id, movie_id, rating, timestamp = tuple(row)\n",
    "            doc = col.createDocument()\n",
    "            doc[\"_from\"] = \"Users/\"+user_id\n",
    "            doc[\"_to\"] = \"Movies/\"+movie_id\n",
    "            doc[\"ratings\"] = rating\n",
    "#             doc[\"timestamp\"] = timestamp\n",
    "            doc.save()\n",
    "\n",
    "print(\"Import Done\")"
   ]
  },
  {
   "cell_type": "markdown",
   "metadata": {
    "colab_type": "text",
    "id": "tua4CIHYRTi0"
   },
   "source": [
    "## Specify the Graph Structure "
   ]
  },
  {
   "cell_type": "markdown",
   "metadata": {
    "colab_type": "text",
    "id": "9oKkkRxwRTi0"
   },
   "source": [
    "To use the IMDB Networkx Adapter, we need to specify the structure of the graph that we want to create. This is done with a simple dictionary. The details of creating the _Networkx_ graph are shown below."
   ]
  },
  {
   "cell_type": "code",
   "execution_count": 5,
   "metadata": {
    "colab": {},
    "colab_type": "code",
    "id": "wobwe8KqXXi2"
   },
   "outputs": [],
   "source": [
    "imdb_attributes = {'vertexCollections': {'Users': {},\n",
    "                                         'Movies': {}},\n",
    "                   'edgeCollections': {'Ratings': {'_from', '_to', 'ratings'}}}"
   ]
  },
  {
   "cell_type": "markdown",
   "metadata": {},
   "source": [
    "## Utility of the Networkx Interface\n",
    "We just created a networkx graph for this problem, most analysis tasks with the graph require the following:\n",
    "1. Understand the graph structure: We are interested in summary level statistics like number of nodes and edges. Distributional characteristics like degree distribution of nodes, clustering coefficients etc.\n",
    "2. Investigate or explore a sub-graph of interest\n",
    "3. Perform a learning problem on the graph.\n",
    "Networkx provides API for tasks (1) and (2). It provides many algorithms for task (3). Many libraries for machine learning on graphs accept Graphs specified in as networkx graphs as input. Therefore, the networkx-adapter interface positions us well to perform analytics tasks on graphs. We will illustrate these ideas with an example.\n"
   ]
  },
  {
   "cell_type": "markdown",
   "metadata": {},
   "source": [
    "## Obtain the networkx graph"
   ]
  },
  {
   "cell_type": "code",
   "execution_count": 6,
   "metadata": {
    "colab": {},
    "colab_type": "code",
    "id": "jjJZJEgvXZ0W"
   },
   "outputs": [],
   "source": [
    "g = ma.create_networkx_graph(\n",
    "    graph_name='IMDBGraph',  graph_attributes=imdb_attributes)"
   ]
  },
  {
   "cell_type": "markdown",
   "metadata": {},
   "source": [
    "## Get the user and movie nodes"
   ]
  },
  {
   "cell_type": "code",
   "execution_count": 10,
   "metadata": {},
   "outputs": [],
   "source": [
    "user_nodes = [n for n in g.nodes() if n.startswith(\"Users\")]\n",
    "movie_nodes = [n for n in g.nodes() if n.startswith(\"Movies\")]"
   ]
  },
  {
   "cell_type": "markdown",
   "metadata": {},
   "source": [
    "## Structural Property Introspection: Number of Nodes and Edges"
   ]
  },
  {
   "cell_type": "code",
   "execution_count": 15,
   "metadata": {},
   "outputs": [
    {
     "name": "stdout",
     "output_type": "stream",
     "text": [
      "Number of Users are 943\n",
      "Number of Movies are 1682\n",
      "Number of Ratings are 65499\n"
     ]
    }
   ],
   "source": [
    "print(\"Number of Users are %d\" % (len(user_nodes)))\n",
    "print(\"Number of Movies are %d\" % (len(movie_nodes)))\n",
    "print(\"Number of Ratings are %d\" % (len(list(g.edges()))))"
   ]
  },
  {
   "cell_type": "markdown",
   "metadata": {},
   "source": [
    "## Convert the graph obtained from the interface to a bi-partite graph "
   ]
  },
  {
   "cell_type": "code",
   "execution_count": 20,
   "metadata": {},
   "outputs": [],
   "source": [
    "import networkx as nx\n",
    "B = nx.Graph()\n",
    "B.add_nodes_from(user_nodes, bipartite=0)\n",
    "B.add_nodes_from(movie_nodes, bipartite=1)\n",
    "B.add_edges_from(list(g.edges()))"
   ]
  },
  {
   "cell_type": "code",
   "execution_count": 21,
   "metadata": {},
   "outputs": [
    {
     "data": {
      "text/plain": [
       "True"
      ]
     },
     "execution_count": 21,
     "metadata": {},
     "output_type": "execute_result"
    }
   ],
   "source": [
    "from networkx.algorithms import bipartite\n",
    "bipartite.is_bipartite(B)"
   ]
  },
  {
   "cell_type": "markdown",
   "metadata": {},
   "source": [
    "## Can we find users who have not rated a movie in common?\n",
    "We can identify this by checking to see if the graph is connected. If the graph is connected, then there is a path between any two users in the graph."
   ]
  },
  {
   "cell_type": "code",
   "execution_count": 22,
   "metadata": {},
   "outputs": [
    {
     "data": {
      "text/plain": [
       "False"
      ]
     },
     "execution_count": 22,
     "metadata": {},
     "output_type": "execute_result"
    }
   ],
   "source": [
    "nx.is_connected(B)"
   ]
  },
  {
   "cell_type": "code",
   "execution_count": 25,
   "metadata": {},
   "outputs": [],
   "source": [
    "users = [n for n in B.nodes if B.nodes[n]['bipartite'] == 0]\n",
    "movies = [n for n in B.nodes if B.nodes[n]['bipartite'] == 1]"
   ]
  },
  {
   "cell_type": "markdown",
   "metadata": {},
   "source": [
    "## How many movies does a User rate?\n",
    "This is a distribution. A review of the plot below will show the familiar long tailed distribution. Most viewers rate less than say 100 movies. There are some serious reviewers out there though. These are on the tail of the distribution."
   ]
  },
  {
   "cell_type": "code",
   "execution_count": 52,
   "metadata": {},
   "outputs": [],
   "source": [
    "degu, degm = bipartite.degrees(B, movies)"
   ]
  },
  {
   "cell_type": "code",
   "execution_count": 53,
   "metadata": {},
   "outputs": [],
   "source": [
    "du = [v for k,v in degu]"
   ]
  },
  {
   "cell_type": "code",
   "execution_count": 54,
   "metadata": {},
   "outputs": [
    {
     "data": {
      "image/png": "[encoded data removed]",
      "text/plain": [
       "<Figure size 720x360 with 1 Axes>"
      ]
     },
     "metadata": {},
     "output_type": "display_data"
    }
   ],
   "source": [
    "import matplotlib.pyplot as plt\n",
    "plt.rcParams['figure.figsize'] = [10, 5]\n",
    "ax = plt.hist(du)\n",
    "plt.title(\"Histogram of the Number of Movies Viewed\")\n",
    "plt.xlabel(\"Movies Viewed\")\n",
    "plt.grid(True)"
   ]
  },
  {
   "cell_type": "markdown",
   "metadata": {},
   "source": [
    "## How many users rate a movie?\n",
    "This is also a distribution that also has the long tailed behavior. Most mvoies are rated by less than 100 users. There are some movies that are rated by many viewers though."
   ]
  },
  {
   "cell_type": "code",
   "execution_count": 56,
   "metadata": {},
   "outputs": [
    {
     "data": {
      "image/png": "[encoded data removed]",
      "text/plain": [
       "<Figure size 720x360 with 1 Axes>"
      ]
     },
     "metadata": {},
     "output_type": "display_data"
    }
   ],
   "source": [
    "dm = [v for k,v in degm]\n",
    "plt.rcParams['figure.figsize'] = [10, 5]\n",
    "ax = plt.hist(dm)\n",
    "plt.title(\"Histogram of the Number of Viewers Rating a Movie\")\n",
    "plt.xlabel(\"Number of Viewers\")\n",
    "plt.grid(True)"
   ]
  },
  {
   "cell_type": "markdown",
   "metadata": {},
   "source": [
    "## Centrality Measures\n",
    "We saw that movie ratings by users as well as movie viewership exhibit long tailed behavior. How do we formalize the observations about movie importance and the user's rating behavior in the given network? The notion of centrality measure is useful in this regard. Centrality measures identify the important nodes in a network. We will use degree centraility in this example (see the [documentation](https://networkx.github.io/documentation/stable/reference/algorithms/generated/networkx.algorithms.bipartite.centrality.degree_centrality.html) for details). In the illustrations below, we will capture the top 10 users and movies in terms of importance as determined by this measure "
   ]
  },
  {
   "cell_type": "code",
   "execution_count": 74,
   "metadata": {},
   "outputs": [],
   "source": [
    "dc= bipartite.degree_centrality(B, users)\n",
    "sdcu = {}\n",
    "sdcm = {}\n",
    "for k, v in sorted(dc.items(),reverse=True, key=lambda item: item[1]):\n",
    "    if k.startswith(\"Users\"):\n",
    "        sdcu[k] = v\n",
    "    else:\n",
    "        sdcm[k] = v\n",
    "\n",
    "del dc"
   ]
  },
  {
   "cell_type": "markdown",
   "metadata": {},
   "source": [
    "## List the top 10 users in terms of degree centrality\n",
    "These guys rate a lot of movies"
   ]
  },
  {
   "cell_type": "code",
   "execution_count": 83,
   "metadata": {
    "scrolled": true
   },
   "outputs": [
    {
     "data": {
      "text/plain": [
       "['Users/405',\n",
       " 'Users/13',\n",
       " 'Users/276',\n",
       " 'Users/450',\n",
       " 'Users/234',\n",
       " 'Users/303',\n",
       " 'Users/416',\n",
       " 'Users/655',\n",
       " 'Users/181',\n",
       " 'Users/393']"
      ]
     },
     "execution_count": 83,
     "metadata": {},
     "output_type": "execute_result"
    }
   ],
   "source": [
    "list(sdcu.keys())[:10]"
   ]
  },
  {
   "cell_type": "markdown",
   "metadata": {},
   "source": [
    "## List the top 10 movies in terms of degree centrality\n",
    "These movies are rated by a lot of people"
   ]
  },
  {
   "cell_type": "code",
   "execution_count": 84,
   "metadata": {},
   "outputs": [
    {
     "data": {
      "text/plain": [
       "['Movies/50',\n",
       " 'Movies/258',\n",
       " 'Movies/100',\n",
       " 'Movies/288',\n",
       " 'Movies/181',\n",
       " 'Movies/286',\n",
       " 'Movies/294',\n",
       " 'Movies/1',\n",
       " 'Movies/56',\n",
       " 'Movies/98']"
      ]
     },
     "execution_count": 84,
     "metadata": {},
     "output_type": "execute_result"
    }
   ],
   "source": [
    "list(sdcm.keys())[:10]"
   ]
  },
  {
   "cell_type": "markdown",
   "metadata": {},
   "source": [
    "## How does this importance measure vary over the user community?\n",
    "We can get a sense of this by viewing the distribution of this measure."
   ]
  },
  {
   "cell_type": "code",
   "execution_count": 91,
   "metadata": {},
   "outputs": [
    {
     "data": {
      "text/plain": [
       "Text(0.5, 0, 'User Degree Centraility')"
      ]
     },
     "execution_count": 91,
     "metadata": {},
     "output_type": "execute_result"
    },
    {
     "data": {
      "image/png": "[encoded data removed]",
      "text/plain": [
       "<Figure size 842.4x595.44 with 1 Axes>"
      ]
     },
     "metadata": {},
     "output_type": "display_data"
    }
   ],
   "source": [
    "import seaborn as sns\n",
    "import numpy as np\n",
    "npvals = np.fromiter(sdcu.values(), dtype=float)\n",
    "sns.set(rc={'figure.figsize':(11.7,8.27)})\n",
    "ax = sns.distplot(npvals, hist = False)\n",
    "plt.title(\"Distribution of User Degree Centrality\")\n",
    "plt.xlabel(\"User Degree Centraility\")\n"
   ]
  },
  {
   "cell_type": "markdown",
   "metadata": {},
   "source": [
    "## How does this importance measure vary over the movie community?"
   ]
  },
  {
   "cell_type": "code",
   "execution_count": 92,
   "metadata": {},
   "outputs": [
    {
     "data": {
      "text/plain": [
       "Text(0.5, 0, 'Movie Degree Centraility')"
      ]
     },
     "execution_count": 92,
     "metadata": {},
     "output_type": "execute_result"
    },
    {
     "data": {
      "image/png": "[encoded data removed]",
      "text/plain": [
       "<Figure size 842.4x595.44 with 1 Axes>"
      ]
     },
     "metadata": {},
     "output_type": "display_data"
    }
   ],
   "source": [
    "import seaborn as sns\n",
    "import numpy as np\n",
    "npvals = np.fromiter(sdcm.values(), dtype=float)\n",
    "sns.set(rc={'figure.figsize':(11.7,8.27)})\n",
    "ax = sns.distplot(npvals, hist = False)\n",
    "plt.title(\"Distribution of Movie Degree Centrality\")\n",
    "plt.xlabel(\"Movie Degree Centraility\")\n"
   ]
  },
  {
   "cell_type": "code",
   "execution_count": 93,
   "metadata": {
    "colab": {},
    "colab_type": "code",
    "id": "x1vtgYbAXpec"
   },
   "outputs": [],
   "source": [
    "m4v = [t[0] for t in g.in_edges('Movies/4')]"
   ]
  },
  {
   "cell_type": "markdown",
   "metadata": {},
   "source": [
    "## Analysis of a Subgraph\n",
    "Now that we have information about characteristics of the dataset, let's illustrate the utility of the Networkx interface with machine learning tasks. For this purpose, consider the task of analyzing the group of users for a particular movie. To make this concrete, let's pick 'Movies/4'. We would like to understand the community of users who have rated this movie. For this purpose we will use Node2vec. Node2vec performs what is called representation learning. The idea is to encode the graph structure into a numerical representation. We can use visualization techniques such as the t Stochastic Nieghbor embedding to understand and visualize the data once we have this numerical representation. The Node2Vec library can work with Networkx graphs. Therefore, we are in a position to use Node2vec for our analysis."
   ]
  },
  {
   "cell_type": "markdown",
   "metadata": {
    "colab_type": "text",
    "id": "y4W1MtL-RTjK"
   },
   "source": [
    "## How similar are viewers of the movie 'Get Shorty'?\n",
    "The notion of similarity relates to measures used to capture how similar two nodes in a network are to each other. There are various measures to capture similarity. In this example, we will use the __Jaccard__ similarity. We first get all pairs of users who have seen the movie and then compute the __Jaccard__ similarity between them. The details are shown below. Networkx provides an API for this purpose that we will use."
   ]
  },
  {
   "cell_type": "code",
   "execution_count": 145,
   "metadata": {
    "colab": {},
    "colab_type": "code",
    "id": "z4WoMVchXtVq"
   },
   "outputs": [],
   "source": [
    "from itertools import combinations\n",
    "m4vucmb = list(combinations(m4v, 2))"
   ]
  },
  {
   "cell_type": "code",
   "execution_count": 151,
   "metadata": {
    "colab": {},
    "colab_type": "code",
    "id": "3Z4VBUvkXyHl"
   },
   "outputs": [],
   "source": [
    "import networkx as nx\n",
    "gp = g.to_undirected()\n",
    "jcp = nx.jaccard_coefficient(gp, m4vucmb)"
   ]
  },
  {
   "cell_type": "markdown",
   "metadata": {
    "colab_type": "text",
    "id": "vo538HEmRTjU"
   },
   "source": [
    "## Create a complete sub-graph for the viewers of 'Get Shorty' using the Jaccard Simlarity for the edge weights\n",
    "We will construct a complete graph using the viewers of the movie \"Get Shorty\". The edge weight between a pair of users will be the Jaccard similarity"
   ]
  },
  {
   "cell_type": "code",
   "execution_count": 152,
   "metadata": {
    "colab": {},
    "colab_type": "code",
    "id": "f2i7Puh9X14N"
   },
   "outputs": [],
   "source": [
    "gs = nx.DiGraph()\n",
    "jcpv = []\n",
    "for u, v, p in jcp:\n",
    "    gs.add_edge(u, v, weight=p)\n",
    "    jcpv.append(p)\n",
    "    #print('(%s, %s) -> %.8f' % (u, v, p))"
   ]
  },
  {
   "cell_type": "markdown",
   "metadata": {
    "colab_type": "text",
    "id": "n0L-tUzXRTjY"
   },
   "source": [
    "## How many edges does the complete sub-graph have?"
   ]
  },
  {
   "cell_type": "code",
   "execution_count": 146,
   "metadata": {
    "colab": {},
    "colab_type": "code",
    "id": "MhRMcp_8X582"
   },
   "outputs": [
    {
     "data": {
      "text/plain": [
       "9453"
      ]
     },
     "execution_count": 146,
     "metadata": {},
     "output_type": "execute_result"
    }
   ],
   "source": [
    "gs.number_of_edges()"
   ]
  },
  {
   "cell_type": "markdown",
   "metadata": {},
   "source": [
    "## What does the distribution of User Similarity look like?"
   ]
  },
  {
   "cell_type": "code",
   "execution_count": 154,
   "metadata": {},
   "outputs": [
    {
     "data": {
      "text/plain": [
       "Text(0.5, 0, 'Jaccard Similarity')"
      ]
     },
     "execution_count": 154,
     "metadata": {},
     "output_type": "execute_result"
    },
    {
     "data": {
      "image/png": "[encoded data removed]",
      "text/plain": [
       "<Figure size 842.4x595.44 with 1 Axes>"
      ]
     },
     "metadata": {},
     "output_type": "display_data"
    }
   ],
   "source": [
    "import seaborn as sns\n",
    "import numpy as np\n",
    "sns.set(rc={'figure.figsize':(11.7,8.27)})\n",
    "ax = sns.distplot(jcpv, hist = False)\n",
    "plt.title(\"Distribution of Jaccard Similarity between Raters of Get Shorty\")\n",
    "plt.xlabel(\"Jaccard Similarity\")"
   ]
  },
  {
   "cell_type": "markdown",
   "metadata": {
    "colab_type": "text",
    "id": "Jv5XKBLfRTjd"
   },
   "source": [
    "## Embed the sub-graph using Node2vec "
   ]
  },
  {
   "cell_type": "code",
   "execution_count": 155,
   "metadata": {
    "colab": {},
    "colab_type": "code",
    "id": "e-fD-eNhX9Lh"
   },
   "outputs": [
    {
     "name": "stderr",
     "output_type": "stream",
     "text": [
      "Computing transition probabilities: 100%|██████████| 138/138 [00:01<00:00, 130.44it/s]\n"
     ]
    }
   ],
   "source": [
    "from node2vec import Node2Vec\n",
    "node2vec = Node2Vec(gs, dimensions=64, walk_length=10, num_walks=30, workers=4)"
   ]
  },
  {
   "cell_type": "code",
   "execution_count": 156,
   "metadata": {
    "colab": {},
    "colab_type": "code",
    "id": "6hu6Z0VPYDFK"
   },
   "outputs": [],
   "source": [
    "model = node2vec.fit(window=10, min_count=1, batch_words=4)"
   ]
  },
  {
   "cell_type": "code",
   "execution_count": 157,
   "metadata": {
    "colab": {},
    "colab_type": "code",
    "id": "41YVYl3jYHia"
   },
   "outputs": [
    {
     "data": {
      "text/plain": [
       "[('Users/398', 0.9994795322418213),\n",
       " ('Users/645', 0.9994060397148132),\n",
       " ('Users/363', 0.9993206858634949),\n",
       " ('Users/537', 0.9993155002593994),\n",
       " ('Users/286', 0.9993100166320801),\n",
       " ('Users/271', 0.9993089437484741),\n",
       " ('Users/593', 0.9992958307266235),\n",
       " ('Users/219', 0.9992914795875549),\n",
       " ('Users/394', 0.9992674589157104),\n",
       " ('Users/345', 0.9992673397064209)]"
      ]
     },
     "execution_count": 157,
     "metadata": {},
     "output_type": "execute_result"
    }
   ],
   "source": [
    "model.wv.most_similar(m4v[5])"
   ]
  },
  {
   "cell_type": "markdown",
   "metadata": {},
   "source": [
    "__Using the Networkx adapter we have been able to perform a range of analysis tasks using the Networkx API. We were also able use the Networkx graph to obtain an embedding of a graph using Node2vec.__"
   ]
  },
  {
   "cell_type": "code",
   "execution_count": null,
   "metadata": {},
   "outputs": [],
   "source": []
  }
 ],
 "metadata": {
  "colab": {
   "include_colab_link": true,
   "name": "IMDB_Networkx_Adapter.ipynb",
   "provenance": []
  },
  "kernelspec": {
   "display_name": "Python 3",
   "language": "python",
   "name": "python3"
  },
  "language_info": {
   "codemirror_mode": {
    "name": "ipython",
    "version": 3
   },
   "file_extension": ".py",
   "mimetype": "text/x-python",
   "name": "python",
   "nbconvert_exporter": "python",
   "pygments_lexer": "ipython3",
   "version": "3.7.6"
  }
 },
 "nbformat": 4,
 "nbformat_minor": 1
}
