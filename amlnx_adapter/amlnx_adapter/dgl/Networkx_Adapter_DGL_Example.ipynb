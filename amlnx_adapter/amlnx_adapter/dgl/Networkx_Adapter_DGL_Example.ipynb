{
 "cells": [
  {
   "cell_type": "code",
   "execution_count": null,
   "metadata": {},
   "outputs": [],
   "source": [
    "from amlnx_adapter.dgl.custom_http_client import CustomHTTPClient\n",
    "from amlnx_adapter.dgl.dgl_networkx_arango_adapter import DGL_Networkx_Arango_Adapter"
   ]
  },
  {
   "cell_type": "code",
   "execution_count": null,
   "metadata": {},
   "outputs": [],
   "source": [
    "graph_desc_file_loc = \"graph_descriptor.yaml\"\n",
    "load_from_db = True\n",
    "dgnx = DGL_Networkx_Arango_Adapter(load_from_db = load_from_db, graph_desc_fp = graph_desc_file_loc)\n",
    "l,g = dgnx.create_networkx_graph()"
   ]
  },
  {
   "cell_type": "code",
   "execution_count": null,
   "metadata": {},
   "outputs": [],
   "source": [
    "import networkx as nx\n",
    "import matplotlib.pyplot as plt \n",
    "%matplotlib inline\n",
    "nx.draw_networkx(g.metagraph)"
   ]
  },
  {
   "cell_type": "code",
   "execution_count": null,
   "metadata": {},
   "outputs": [],
   "source": [
    "g"
   ]
  },
  {
   "cell_type": "code",
   "execution_count": null,
   "metadata": {},
   "outputs": [],
   "source": []
  }
 ],
 "metadata": {
  "language_info": {
   "name": "python",
   "pygments_lexer": "ipython3"
  }
 },
 "nbformat": 4,
 "nbformat_minor": 2
}
