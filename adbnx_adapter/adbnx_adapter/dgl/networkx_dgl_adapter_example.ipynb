{
 "nbformat": 4,
 "nbformat_minor": 0,
 "metadata": {
  "language_info": {
   "name": "python",
   "pygments_lexer": "ipython3"
  }
 },
 "cells": [
  {
   "cell_type": "markdown",
   "metadata": {},
   "source": [
    "<a href=\"https://colab.research.google.com/github/arangoml/networkx-adapter/blob/add_example_notebook/networkx_dgl_adapter_example.ipynb\" target=\"_parent\"><img src=\"https://colab.research.google.com/assets/colab-badge.svg\" alt=\"Open In Colab\"/></a>"
   ]
  },
  {
   "cell_type": "code",
   "metadata": {},
   "source": [
    "!pip install python-arango\n",
    "!pip install amlnx-adapter\n",
    "!pip install dgl\n",
    "!pip install pandas PyYAML==5.1.1"
   ],
   "execution_count": null,
   "outputs": []
  },
  {
   "cell_type": "code",
   "metadata": {},
   "source": [
    "import urllib.request\n",
    "cfg_file_url =\"https://raw.githubusercontent.com/arangoml/networkx-adapter/add_example_notebook/amlnx_adapter/amlnx_adapter/dgl/graph_descriptor.yaml\"\n",
    "cfg_file_data = urllib.request.urlopen(cfg_file_url)"
   ],
   "execution_count": null,
   "outputs": []
  },
  {
   "cell_type": "code",
   "metadata": {},
   "source": [
    "from amlnx_adapter.dgl.custom_http_client import CustomHTTPClient\n",
    "from amlnx_adapter.dgl.dgl_networkx_arango_adapter import DGL_Networkx_Arango_Adapter\n",
    "import tempfile\n",
    "import shutil\n",
    "with tempfile.NamedTemporaryFile(delete=False) as graph_desc_file_loc:\n",
    "        shutil.copyfileobj(cfg_file_data, graph_desc_file_loc)\n",
    "graph_desc_file_loc = \"graph_descriptor.yaml\"\n",
    "load_from_db = True\n",
    "dgnx = DGL_Networkx_Arango_Adapter(load_from_db = load_from_db, graph_desc_fp = graph_desc_file_loc)\n",
    "l,g = dgnx.create_networkx_graph()"
   ],
   "execution_count": null,
   "outputs": []
  },
  {
   "cell_type": "code",
   "metadata": {},
   "source": [
    "import networkx as nx\n",
    "import matplotlib.pyplot as plt \n",
    "%matplotlib inline\n",
    "nx.draw_networkx(g.metagraph)"
   ],
   "execution_count": null,
   "outputs": []
  },
  {
   "cell_type": "code",
   "metadata": {},
   "source": [
    ""
   ],
   "execution_count": null,
   "outputs": []
  }
 ]
}
